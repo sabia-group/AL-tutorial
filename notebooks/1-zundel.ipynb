{
 "cells": [
  {
   "cell_type": "markdown",
   "id": "0034a6df",
   "metadata": {},
   "source": [
    "# Active-learning tutorial\n",
    "\n",
    "## 1. Preparing and evaluating committee MACE models for the zundel cation\n",
    "\n",
    "In this tutorial, we will be preparing and working a **committee of MACE models** to describe two different **protonated water clusters** in the gas phase \n",
    "and illustrate the important aspects of committee-based active learning using **query by committee (QbC)**.\n",
    "\n",
    "In the first part, we will leverage the accessible uncertainty measure to screen a wide pool of candidate geometries originating from a DFT simulation of the **Zundel cation** (H$_5$O$_2^+$) to **create a robust and concise training data set**.\n",
    "\n",
    "In the second part, we will use the obtained model to perform an **exploratory simulation** of the related **Eigen cation** (H$_9$O$_3^+$) and, once again, rely on active learning to select the most relevant training structures\n",
    "in order for the model to gain accuracy on a new, unexplored part of the configuration space."
   ]
  },
  {
   "cell_type": "code",
   "execution_count": 1,
   "id": "5d1c958d",
   "metadata": {},
   "outputs": [
    {
     "data": {
      "text/html": [
       "<html>\n",
       "    <head>\n",
       "        <title>ASE atomic visualization</title>\n",
       "        <link rel=\"stylesheet\" type=\"text/css\"             href=\"https://www.x3dom.org/release/x3dom.css\"></link>\n",
       "        <script type=\"text/javascript\"             src=\"https://www.x3dom.org/release/x3dom.js\"></script>\n",
       "    </head>\n",
       "    <body>\n",
       "        <X3D width=\"400px\"; height=\"300px\";>\n",
       "\n",
       "<!--Inserting Generated X3D Scene-->\n",
       "<scene>\n",
       "  <viewpoint position=\"0 0 5.54819156\">\n",
       "    <group/>\n",
       "  </viewpoint>\n",
       "  <transform translation=\"-0.0 -0.0 -0.0\">\n",
       "    <group>\n",
       "      <group>\n",
       "        <transform translation=\"0 0 0\">\n",
       "          <shape>\n",
       "            <appearance>\n",
       "              <material diffuseColor=\"0 0 0\"/>\n",
       "            </appearance>\n",
       "            <lineset vertexCount=\"5\">\n",
       "              <coordinate point=\"0 0 0 0.0 0.0 0.0 0.0 0.0 0.0 0.0 0.0 0.0 0 0 0\"/>\n",
       "            </lineset>\n",
       "          </shape>\n",
       "        </transform>\n",
       "        <transform translation=\"0.0 0.0 0.0\">\n",
       "          <shape>\n",
       "            <appearance>\n",
       "              <material diffuseColor=\"0 0 0\"/>\n",
       "            </appearance>\n",
       "            <lineset vertexCount=\"5\">\n",
       "              <coordinate point=\"0 0 0 0.0 0.0 0.0 0.0 0.0 0.0 0.0 0.0 0.0 0 0 0\"/>\n",
       "            </lineset>\n",
       "          </shape>\n",
       "        </transform>\n",
       "        <transform translation=\"0 0 0\">\n",
       "          <shape>\n",
       "            <appearance>\n",
       "              <material diffuseColor=\"0 0 0\"/>\n",
       "            </appearance>\n",
       "            <lineset vertexCount=\"5\">\n",
       "              <coordinate point=\"0 0 0 0.0 0.0 0.0 0.0 0.0 0.0 0.0 0.0 0.0 0 0 0\"/>\n",
       "            </lineset>\n",
       "          </shape>\n",
       "        </transform>\n",
       "        <transform translation=\"0.0 0.0 0.0\">\n",
       "          <shape>\n",
       "            <appearance>\n",
       "              <material diffuseColor=\"0 0 0\"/>\n",
       "            </appearance>\n",
       "            <lineset vertexCount=\"5\">\n",
       "              <coordinate point=\"0 0 0 0.0 0.0 0.0 0.0 0.0 0.0 0.0 0.0 0.0 0 0 0\"/>\n",
       "            </lineset>\n",
       "          </shape>\n",
       "        </transform>\n",
       "      </group>\n",
       "      <group>\n",
       "        <transform translation=\"-0.24525292 0.92704947 0.7006063\">\n",
       "          <shape>\n",
       "            <appearance>\n",
       "              <material diffuseColor=\"1.0 0.051 0.051\"/>\n",
       "            </appearance>\n",
       "            <sphere radius=\"0.66\"/>\n",
       "          </shape>\n",
       "        </transform>\n",
       "        <transform translation=\"0.50572486 1.32109162 1.06381283\">\n",
       "          <shape>\n",
       "            <appearance>\n",
       "              <material diffuseColor=\"1.0 1.0 1.0\"/>\n",
       "            </appearance>\n",
       "            <sphere radius=\"0.31\"/>\n",
       "          </shape>\n",
       "        </transform>\n",
       "        <transform translation=\"-1.1125627 1.27455707 0.89327293\">\n",
       "          <shape>\n",
       "            <appearance>\n",
       "              <material diffuseColor=\"1.0 1.0 1.0\"/>\n",
       "            </appearance>\n",
       "            <sphere radius=\"0.31\"/>\n",
       "          </shape>\n",
       "        </transform>\n",
       "        <transform translation=\"0.24664311 -0.93881 -0.68037431\">\n",
       "          <shape>\n",
       "            <appearance>\n",
       "              <material diffuseColor=\"1.0 0.051 0.051\"/>\n",
       "            </appearance>\n",
       "            <sphere radius=\"0.66\"/>\n",
       "          </shape>\n",
       "        </transform>\n",
       "        <transform translation=\"-0.04364253 0.07101824 0.05101683\">\n",
       "          <shape>\n",
       "            <appearance>\n",
       "              <material diffuseColor=\"1.0 1.0 1.0\"/>\n",
       "            </appearance>\n",
       "            <sphere radius=\"0.31\"/>\n",
       "          </shape>\n",
       "        </transform>\n",
       "        <transform translation=\"1.06001929 -1.02699918 -1.19234993\">\n",
       "          <shape>\n",
       "            <appearance>\n",
       "              <material diffuseColor=\"1.0 1.0 1.0\"/>\n",
       "            </appearance>\n",
       "            <sphere radius=\"0.31\"/>\n",
       "          </shape>\n",
       "        </transform>\n",
       "        <transform translation=\"-0.43160411 -1.45300416 -1.13687519\">\n",
       "          <shape>\n",
       "            <appearance>\n",
       "              <material diffuseColor=\"1.0 1.0 1.0\"/>\n",
       "            </appearance>\n",
       "            <sphere radius=\"0.31\"/>\n",
       "          </shape>\n",
       "        </transform>\n",
       "      </group>\n",
       "    </group>\n",
       "  </transform>\n",
       "</scene>\n",
       "<!--End of Inserted Scene-->\n",
       "\n",
       "        </X3D>\n",
       "    </body>\n",
       "</html>\n",
       "\n"
      ],
      "text/plain": [
       "<IPython.core.display.HTML object>"
      ]
     },
     "execution_count": 1,
     "metadata": {},
     "output_type": "execute_result"
    }
   ],
   "source": [
    "from ase.visualize import view\n",
    "from ase.io import read\n",
    "view(read('../initial-datasets/zundel/~train.extxyz', index=0), viewer='x3d')"
   ]
  },
  {
   "cell_type": "markdown",
   "id": "f9e2cbfe-fe32-44a9-ab8f-f3f5fbba39e1",
   "metadata": {},
   "source": [
    "### 1.1 First step: prepare the notebook\n",
    "\n",
    "This is all the modules and functions that we will need to run this tutorial.\n",
    "Apart from standard Python libraties, we built our own simple QbC functionality for this purpose which can be found (with additional helper tools) in `myfunctions.py`.\n",
    "\n",
    "Having a developer-level understanding of these tools is not critical for completing the tutorial in any way,\n",
    "but please do have a look if you are curious."
   ]
  },
  {
   "cell_type": "markdown",
   "id": "c9a50eba",
   "metadata": {},
   "source": [
    "#### Import the necessary modules"
   ]
  },
  {
   "cell_type": "code",
   "execution_count": 2,
   "id": "d21cd2a4-48a9-4bf4-8f88-c4b7bdb84dd5",
   "metadata": {},
   "outputs": [
    {
     "name": "stderr",
     "output_type": "stream",
     "text": [
      "/home/stoccoel/programs/miniforge/envs/alt/lib/python3.9/site-packages/e3nn/o3/_wigner.py:10: UserWarning: Environment variable TORCH_FORCE_NO_WEIGHTS_ONLY_LOAD detected, since the`weights_only` argument was not explicitly passed to `torch.load`, forcing weights_only=False.\n",
      "  _Jd, _W3j_flat, _W3j_indices = torch.load(os.path.join(os.path.dirname(__file__), 'constants.pt'))\n"
     ]
    },
    {
     "name": "stdout",
     "output_type": "stream",
     "text": [
      "cuequivariance or cuequivariance_torch is not available. Cuequivariance acceleration will be disabled.\n"
     ]
    }
   ],
   "source": [
    "import os\n",
    "from tqdm.notebook import tqdm\n",
    "from IPython.display import Image, display\n",
    "\n",
    "try:\n",
    "    from rich.console import Console\n",
    "    console = Console(width=200)  # or however wide you need\n",
    "    print = console.print\n",
    "except:\n",
    "    pass\n",
    "\n",
    "import numpy as np\n",
    "import matplotlib.pyplot as plt\n",
    "\n",
    "plt.style.use('notebook.mplstyle') # use matplotlib style notebook.mplstyle\n",
    "\n",
    "from ase import Atoms\n",
    "from ase.visualize import view\n",
    "from ase.io import read, write # read and write structures\n",
    "from ase.calculators.calculator import Calculator, all_changes, all_properties\n",
    "\n",
    "# import functions to run this tutorial\n",
    "from myfunctions import train_mace                # train MACE model\n",
    "from myfunctions import eval_mace                 # evaluate MACE model\n",
    "from myfunctions import extxyz2energy             # extract energy from extxyz file\n",
    "from myfunctions import extxyz2array              # extract forces from extxyz file\n",
    "from myfunctions import run_qbc                   # run Query by Committee\n",
    "from myfunctions import run_single_aims_structure # call FHI-aims\n",
    "from myfunctions import prepare_train_file        # prepare training file for MACE\n",
    "\n",
    "np.random.seed(0) "
   ]
  },
  {
   "cell_type": "markdown",
   "id": "712fa5ad",
   "metadata": {},
   "source": [
    "#### Global variables and hyperparameters\n",
    "\n",
    "In the cell below we will select some hyperparameters of the employed MACE models and the QbC process."
   ]
  },
  {
   "cell_type": "code",
   "execution_count": 3,
   "id": "6b44056d",
   "metadata": {},
   "outputs": [],
   "source": [
    "# MACE committee\n",
    "n_init_train = 20\n",
    "n_test = 50  \n",
    "n_committee = 4\n",
    "parallel = True # this should work for Linux\n",
    "\n",
    "# QbC\n",
    "n_iter_qbc = 10\n",
    "n_add_iter = 10    \n",
    "\n",
    "# random number set up - is it necessary to have this expliticly here?\n",
    "seeds = np.random.randint(0, 2**32 - 1, size=n_committee, dtype=np.uint32)\n",
    "\n",
    "# folders for tidy work\n",
    "md_folder = \"md\"\n",
    "init_train_folder = \"init-train\"\n",
    "qbc_folder = \"qbc-work\" # if you modify this, add the new folder to .gitignore\n",
    "Eigen_qbc_folder = \"eigen-qbc-work\"\n",
    "\n",
    "os.makedirs(f'{init_train_folder}', exist_ok=True)\n",
    "os.makedirs(f'{init_train_folder}/config', exist_ok=True)\n",
    "os.makedirs(f'{init_train_folder}/models', exist_ok=True)\n",
    "os.makedirs(f'{init_train_folder}/eval', exist_ok=True)\n",
    "os.makedirs(f'{init_train_folder}/structures', exist_ok=True)\n",
    "os.makedirs(f'{md_folder}', exist_ok=True)"
   ]
  },
  {
   "cell_type": "markdown",
   "id": "ede5b4eb-b316-4ead-9a87-78c4473c9c13",
   "metadata": {},
   "source": [
    "### 1.2 Generating a training dataset\n",
    "\n",
    "In the first part, we will tackle the Zundel cation using a committee of MACE models.\n",
    "To actively select structures for the training set, we need to perform QbC on a provided candidate set.\n",
    "\n",
    "The first step in QbC is to select a small number of random structures (here `n_init_train`) to train a very preliminary committee that can, however, already provide a measure of uncertainty.\n",
    "\n",
    "We start by selecting these initial structures and, at the same time, separating out a small portion of our data points for testing purposes."
   ]
  },
  {
   "cell_type": "code",
   "execution_count": 4,
   "id": "3df9b0e8",
   "metadata": {},
   "outputs": [
    {
     "data": {
      "text/html": [
       "<pre style=\"white-space:pre;overflow-x:auto;line-height:normal;font-family:Menlo,'DejaVu Sans Mono',consolas,'Courier New',monospace\">Total number of structures: <span style=\"color: #008080; text-decoration-color: #008080; font-weight: bold\">1000</span>\n",
       "</pre>\n"
      ],
      "text/plain": [
       "Total number of structures: \u001b[1;36m1000\u001b[0m\n"
      ]
     },
     "metadata": {},
     "output_type": "display_data"
    },
    {
     "data": {
      "text/html": [
       "<pre style=\"white-space:pre;overflow-x:auto;line-height:normal;font-family:Menlo,'DejaVu Sans Mono',consolas,'Courier New',monospace\">\n",
       "Selected indices for training:\n",
       "<span style=\"font-weight: bold\">[</span><span style=\"color: #008080; text-decoration-color: #008080; font-weight: bold\">895</span> <span style=\"color: #008080; text-decoration-color: #008080; font-weight: bold\">605</span> <span style=\"color: #008080; text-decoration-color: #008080; font-weight: bold\">298</span> <span style=\"color: #008080; text-decoration-color: #008080; font-weight: bold\">356</span> <span style=\"color: #008080; text-decoration-color: #008080; font-weight: bold\">571</span> <span style=\"color: #008080; text-decoration-color: #008080; font-weight: bold\">834</span>  <span style=\"color: #008080; text-decoration-color: #008080; font-weight: bold\">27</span> <span style=\"color: #008080; text-decoration-color: #008080; font-weight: bold\">231</span> <span style=\"color: #008080; text-decoration-color: #008080; font-weight: bold\">306</span> <span style=\"color: #008080; text-decoration-color: #008080; font-weight: bold\">708</span> <span style=\"color: #008080; text-decoration-color: #008080; font-weight: bold\">522</span> <span style=\"color: #008080; text-decoration-color: #008080; font-weight: bold\">891</span> <span style=\"color: #008080; text-decoration-color: #008080; font-weight: bold\">988</span> <span style=\"color: #008080; text-decoration-color: #008080; font-weight: bold\">239</span> <span style=\"color: #008080; text-decoration-color: #008080; font-weight: bold\">863</span>  <span style=\"color: #008080; text-decoration-color: #008080; font-weight: bold\">55</span> <span style=\"color: #008080; text-decoration-color: #008080; font-weight: bold\">635</span> <span style=\"color: #008080; text-decoration-color: #008080; font-weight: bold\">175</span>\n",
       "  <span style=\"color: #008080; text-decoration-color: #008080; font-weight: bold\">14</span>  <span style=\"color: #008080; text-decoration-color: #008080; font-weight: bold\">77</span><span style=\"font-weight: bold\">]</span>\n",
       "</pre>\n"
      ],
      "text/plain": [
       "\n",
       "Selected indices for training:\n",
       "\u001b[1m[\u001b[0m\u001b[1;36m895\u001b[0m \u001b[1;36m605\u001b[0m \u001b[1;36m298\u001b[0m \u001b[1;36m356\u001b[0m \u001b[1;36m571\u001b[0m \u001b[1;36m834\u001b[0m  \u001b[1;36m27\u001b[0m \u001b[1;36m231\u001b[0m \u001b[1;36m306\u001b[0m \u001b[1;36m708\u001b[0m \u001b[1;36m522\u001b[0m \u001b[1;36m891\u001b[0m \u001b[1;36m988\u001b[0m \u001b[1;36m239\u001b[0m \u001b[1;36m863\u001b[0m  \u001b[1;36m55\u001b[0m \u001b[1;36m635\u001b[0m \u001b[1;36m175\u001b[0m\n",
       "  \u001b[1;36m14\u001b[0m  \u001b[1;36m77\u001b[0m\u001b[1m]\u001b[0m\n"
      ]
     },
     "metadata": {},
     "output_type": "display_data"
    },
    {
     "data": {
      "text/html": [
       "<pre style=\"white-space:pre;overflow-x:auto;line-height:normal;font-family:Menlo,'DejaVu Sans Mono',consolas,'Courier New',monospace\">\n",
       "Selected indices for test:\n",
       "<span style=\"font-weight: bold\">[</span> <span style=\"color: #008080; text-decoration-color: #008080; font-weight: bold\">31</span> <span style=\"color: #008080; text-decoration-color: #008080; font-weight: bold\">483</span> <span style=\"color: #008080; text-decoration-color: #008080; font-weight: bold\">310</span> <span style=\"color: #008080; text-decoration-color: #008080; font-weight: bold\">311</span> <span style=\"color: #008080; text-decoration-color: #008080; font-weight: bold\">931</span> <span style=\"color: #008080; text-decoration-color: #008080; font-weight: bold\">790</span>  <span style=\"color: #008080; text-decoration-color: #008080; font-weight: bold\">45</span> <span style=\"color: #008080; text-decoration-color: #008080; font-weight: bold\">103</span> <span style=\"color: #008080; text-decoration-color: #008080; font-weight: bold\">729</span>   <span style=\"color: #008080; text-decoration-color: #008080; font-weight: bold\">1</span> <span style=\"color: #008080; text-decoration-color: #008080; font-weight: bold\">772</span> <span style=\"color: #008080; text-decoration-color: #008080; font-weight: bold\">712</span> <span style=\"color: #008080; text-decoration-color: #008080; font-weight: bold\">758</span> <span style=\"color: #008080; text-decoration-color: #008080; font-weight: bold\">451</span> <span style=\"color: #008080; text-decoration-color: #008080; font-weight: bold\">457</span> <span style=\"color: #008080; text-decoration-color: #008080; font-weight: bold\">738</span> <span style=\"color: #008080; text-decoration-color: #008080; font-weight: bold\">799</span> <span style=\"color: #008080; text-decoration-color: #008080; font-weight: bold\">367</span>\n",
       " <span style=\"color: #008080; text-decoration-color: #008080; font-weight: bold\">922</span> <span style=\"color: #008080; text-decoration-color: #008080; font-weight: bold\">267</span> <span style=\"color: #008080; text-decoration-color: #008080; font-weight: bold\">230</span> <span style=\"color: #008080; text-decoration-color: #008080; font-weight: bold\">192</span> <span style=\"color: #008080; text-decoration-color: #008080; font-weight: bold\">530</span> <span style=\"color: #008080; text-decoration-color: #008080; font-weight: bold\">700</span> <span style=\"color: #008080; text-decoration-color: #008080; font-weight: bold\">251</span> <span style=\"color: #008080; text-decoration-color: #008080; font-weight: bold\">689</span> <span style=\"color: #008080; text-decoration-color: #008080; font-weight: bold\">821</span> <span style=\"color: #008080; text-decoration-color: #008080; font-weight: bold\">141</span> <span style=\"color: #008080; text-decoration-color: #008080; font-weight: bold\">316</span> <span style=\"color: #008080; text-decoration-color: #008080; font-weight: bold\">482</span> <span style=\"color: #008080; text-decoration-color: #008080; font-weight: bold\">331</span> <span style=\"color: #008080; text-decoration-color: #008080; font-weight: bold\">295</span> <span style=\"color: #008080; text-decoration-color: #008080; font-weight: bold\">262</span> <span style=\"color: #008080; text-decoration-color: #008080; font-weight: bold\">434</span> <span style=\"color: #008080; text-decoration-color: #008080; font-weight: bold\">864</span> <span style=\"color: #008080; text-decoration-color: #008080; font-weight: bold\">372</span>\n",
       " <span style=\"color: #008080; text-decoration-color: #008080; font-weight: bold\">272</span> <span style=\"color: #008080; text-decoration-color: #008080; font-weight: bold\">270</span> <span style=\"color: #008080; text-decoration-color: #008080; font-weight: bold\">503</span> <span style=\"color: #008080; text-decoration-color: #008080; font-weight: bold\">319</span> <span style=\"color: #008080; text-decoration-color: #008080; font-weight: bold\">557</span> <span style=\"color: #008080; text-decoration-color: #008080; font-weight: bold\">986</span> <span style=\"color: #008080; text-decoration-color: #008080; font-weight: bold\">142</span> <span style=\"color: #008080; text-decoration-color: #008080; font-weight: bold\">202</span> <span style=\"color: #008080; text-decoration-color: #008080; font-weight: bold\">796</span> <span style=\"color: #008080; text-decoration-color: #008080; font-weight: bold\">196</span> <span style=\"color: #008080; text-decoration-color: #008080; font-weight: bold\">264</span> <span style=\"color: #008080; text-decoration-color: #008080; font-weight: bold\">533</span> <span style=\"color: #008080; text-decoration-color: #008080; font-weight: bold\">252</span> <span style=\"color: #008080; text-decoration-color: #008080; font-weight: bold\">578</span><span style=\"font-weight: bold\">]</span>\n",
       "</pre>\n"
      ],
      "text/plain": [
       "\n",
       "Selected indices for test:\n",
       "\u001b[1m[\u001b[0m \u001b[1;36m31\u001b[0m \u001b[1;36m483\u001b[0m \u001b[1;36m310\u001b[0m \u001b[1;36m311\u001b[0m \u001b[1;36m931\u001b[0m \u001b[1;36m790\u001b[0m  \u001b[1;36m45\u001b[0m \u001b[1;36m103\u001b[0m \u001b[1;36m729\u001b[0m   \u001b[1;36m1\u001b[0m \u001b[1;36m772\u001b[0m \u001b[1;36m712\u001b[0m \u001b[1;36m758\u001b[0m \u001b[1;36m451\u001b[0m \u001b[1;36m457\u001b[0m \u001b[1;36m738\u001b[0m \u001b[1;36m799\u001b[0m \u001b[1;36m367\u001b[0m\n",
       " \u001b[1;36m922\u001b[0m \u001b[1;36m267\u001b[0m \u001b[1;36m230\u001b[0m \u001b[1;36m192\u001b[0m \u001b[1;36m530\u001b[0m \u001b[1;36m700\u001b[0m \u001b[1;36m251\u001b[0m \u001b[1;36m689\u001b[0m \u001b[1;36m821\u001b[0m \u001b[1;36m141\u001b[0m \u001b[1;36m316\u001b[0m \u001b[1;36m482\u001b[0m \u001b[1;36m331\u001b[0m \u001b[1;36m295\u001b[0m \u001b[1;36m262\u001b[0m \u001b[1;36m434\u001b[0m \u001b[1;36m864\u001b[0m \u001b[1;36m372\u001b[0m\n",
       " \u001b[1;36m272\u001b[0m \u001b[1;36m270\u001b[0m \u001b[1;36m503\u001b[0m \u001b[1;36m319\u001b[0m \u001b[1;36m557\u001b[0m \u001b[1;36m986\u001b[0m \u001b[1;36m142\u001b[0m \u001b[1;36m202\u001b[0m \u001b[1;36m796\u001b[0m \u001b[1;36m196\u001b[0m \u001b[1;36m264\u001b[0m \u001b[1;36m533\u001b[0m \u001b[1;36m252\u001b[0m \u001b[1;36m578\u001b[0m\u001b[1m]\u001b[0m\n"
      ]
     },
     "metadata": {},
     "output_type": "display_data"
    },
    {
     "data": {
      "text/html": [
       "<pre style=\"white-space:pre;overflow-x:auto;line-height:normal;font-family:Menlo,'DejaVu Sans Mono',consolas,'Courier New',monospace\">Saving the initial training set to <span style=\"color: #008000; text-decoration-color: #008000\">'init-train/structures/init.train.extxyz'</span>\n",
       "</pre>\n"
      ],
      "text/plain": [
       "Saving the initial training set to \u001b[32m'init-train/structures/init.train.extxyz'\u001b[0m\n"
      ]
     },
     "metadata": {},
     "output_type": "display_data"
    },
    {
     "data": {
      "text/html": [
       "<pre style=\"white-space:pre;overflow-x:auto;line-height:normal;font-family:Menlo,'DejaVu Sans Mono',consolas,'Courier New',monospace\">Saving the test set to <span style=\"color: #008000; text-decoration-color: #008000\">'init-train/structures/test.extxyz'</span>\n",
       "</pre>\n"
      ],
      "text/plain": [
       "Saving the test set to \u001b[32m'init-train/structures/test.extxyz'\u001b[0m\n"
      ]
     },
     "metadata": {},
     "output_type": "display_data"
    },
    {
     "data": {
      "text/html": [
       "<pre style=\"white-space:pre;overflow-x:auto;line-height:normal;font-family:Menlo,'DejaVu Sans Mono',consolas,'Courier New',monospace\">Saving the remaining structures to <span style=\"color: #008000; text-decoration-color: #008000\">'init-train/structures/remaining.extxyz'</span>\n",
       "</pre>\n"
      ],
      "text/plain": [
       "Saving the remaining structures to \u001b[32m'init-train/structures/remaining.extxyz'\u001b[0m\n"
      ]
     },
     "metadata": {},
     "output_type": "display_data"
    }
   ],
   "source": [
    "# Read the all the structures from file\n",
    "structures = read('../initial-datasets/zundel/train.extxyz', index=':')\n",
    "print(f'Total number of structures: {len(structures)}')\n",
    "\n",
    "# Create the initial training and test sets\n",
    "selected_indices = np.random.choice(len(structures), size=(n_init_train + n_test), replace=False)\n",
    "remaining_candidate_idcs = np.delete(np.arange(len(structures)), selected_indices)\n",
    "\n",
    "indices_train = selected_indices[:n_init_train]\n",
    "indices_test = selected_indices[n_init_train:]\n",
    "assert len(indices_train) == n_init_train\n",
    "assert len(indices_test) == n_test\n",
    "\n",
    "print(f\"\\nSelected indices for training:\\n{indices_train}\")\n",
    "print(f\"\\nSelected indices for test:\\n{indices_test}\")\n",
    "\n",
    "initial_training_set = [structures[i] for i in indices_train]\n",
    "test_set = [structures[i] for i in indices_test]\n",
    "remaining_structures = [structures[i] for i in remaining_candidate_idcs]\n",
    "\n",
    "print(f\"Saving the initial training set to '{init_train_folder}/structures/init.train.extxyz'\")\n",
    "write(f'{init_train_folder}/structures/init.train.extxyz', initial_training_set, format='extxyz')\n",
    "\n",
    "print(f\"Saving the test set to '{init_train_folder}/structures/test.extxyz'\")\n",
    "write(f'{init_train_folder}/structures/test.extxyz', test_set, format='extxyz')\n",
    "\n",
    "print(f\"Saving the remaining structures to '{init_train_folder}/structures/remaining.extxyz'\")\n",
    "write(f'{init_train_folder}/structures/remaining.extxyz', remaining_structures, format='extxyz')"
   ]
  },
  {
   "cell_type": "markdown",
   "id": "fa1077ec",
   "metadata": {},
   "source": [
    "### 1.3 Initial Training"
   ]
  },
  {
   "cell_type": "markdown",
   "id": "71cf1a48",
   "metadata": {},
   "source": [
    "Now we get to the initial training of the committee.\n",
    "\n",
    "In essence, you can understand this as the entry step of QbC being done separately with the aim to really illustrate what is going in.\n",
    "\n",
    "Notice that we provide `structures/init.train.set.extxyz` as the training data set."
   ]
  },
  {
   "cell_type": "code",
   "execution_count": 5,
   "id": "5820af06",
   "metadata": {},
   "outputs": [
    {
     "data": {
      "text/html": [
       "<pre style=\"white-space:pre;overflow-x:auto;line-height:normal;font-family:Menlo,'DejaVu Sans Mono',consolas,'Courier New',monospace\">Wrote <span style=\"color: #008000; text-decoration-color: #008000\">'init-train/config/config.0.yml'</span>\n",
       "</pre>\n"
      ],
      "text/plain": [
       "Wrote \u001b[32m'init-train/config/config.0.yml'\u001b[0m\n"
      ]
     },
     "metadata": {},
     "output_type": "display_data"
    },
    {
     "data": {
      "text/html": [
       "<pre style=\"white-space:pre;overflow-x:auto;line-height:normal;font-family:Menlo,'DejaVu Sans Mono',consolas,'Courier New',monospace\">Wrote <span style=\"color: #008000; text-decoration-color: #008000\">'init-train/config/config.1.yml'</span>\n",
       "</pre>\n"
      ],
      "text/plain": [
       "Wrote \u001b[32m'init-train/config/config.1.yml'\u001b[0m\n"
      ]
     },
     "metadata": {},
     "output_type": "display_data"
    },
    {
     "data": {
      "text/html": [
       "<pre style=\"white-space:pre;overflow-x:auto;line-height:normal;font-family:Menlo,'DejaVu Sans Mono',consolas,'Courier New',monospace\">Wrote <span style=\"color: #008000; text-decoration-color: #008000\">'init-train/config/config.2.yml'</span>\n",
       "</pre>\n"
      ],
      "text/plain": [
       "Wrote \u001b[32m'init-train/config/config.2.yml'\u001b[0m\n"
      ]
     },
     "metadata": {},
     "output_type": "display_data"
    },
    {
     "data": {
      "text/html": [
       "<pre style=\"white-space:pre;overflow-x:auto;line-height:normal;font-family:Menlo,'DejaVu Sans Mono',consolas,'Courier New',monospace\">Wrote <span style=\"color: #008000; text-decoration-color: #008000\">'init-train/config/config.3.yml'</span>\n",
       "</pre>\n"
      ],
      "text/plain": [
       "Wrote \u001b[32m'init-train/config/config.3.yml'\u001b[0m\n"
      ]
     },
     "metadata": {},
     "output_type": "display_data"
    }
   ],
   "source": [
    "# Define different values for each config\n",
    "for i in range(n_committee):\n",
    "    filename = f\"{init_train_folder}/config/config.{i}.yml\"\n",
    "    \n",
    "    prepare_train_file(template=\"train-template.yaml\",\n",
    "                        output_path=filename,\n",
    "                        replacements={\n",
    "                            \"NAME\" : f\"mace.com={i}\",\n",
    "                            \"TRAIN_FOLDER\" : init_train_folder,\n",
    "                            \"SEED\" : seeds[i],\n",
    "                            \"RESTART\" : False,\n",
    "                        })\n",
    "\n",
    "    print(f\"Wrote '{filename}'\")"
   ]
  },
  {
   "cell_type": "code",
   "execution_count": null,
   "id": "99c4113a-b80f-47c4-8d19-5b02e6afa0a1",
   "metadata": {},
   "outputs": [
    {
     "data": {
      "text/html": [
       "<pre style=\"white-space:pre;overflow-x:auto;line-height:normal;font-family:Menlo,'DejaVu Sans Mono',consolas,'Courier New',monospace\">Training <span style=\"color: #008080; text-decoration-color: #008080; font-weight: bold\">4</span> models in parallel\n",
       "</pre>\n"
      ],
      "text/plain": [
       "Training \u001b[1;36m4\u001b[0m models in parallel\n"
      ]
     },
     "metadata": {},
     "output_type": "display_data"
    }
   ],
   "source": [
    "# train a committee of MACE models\n",
    "def train_single_model(n):\n",
    "    train_mace(f\"{init_train_folder}/config/config.{n}.yml\")\n",
    "    \n",
    "if parallel: # parallel version: it should take around 25s \n",
    "    try:\n",
    "        import multiprocessing\n",
    "    except ImportError as err:\n",
    "        print(\"Parallel processing is not available. Please set 'parallel' to False.\")\n",
    "        raise err\n",
    "\n",
    "    print(f\"Training {n_committee} models in parallel\")\n",
    "    with multiprocessing.Pool(processes=multiprocessing.cpu_count()) as pool:\n",
    "        pool.map(train_single_model, range(n_committee))\n",
    "        \n",
    "else: # serial version: it should take around 1m\n",
    "    print(f\"Training {n_committee} models in serial\\n\")\n",
    "    for n in range(n_committee):\n",
    "        print(f\"Training model {n}\")\n",
    "        train_single_model(n)\n",
    "        \n",
    "for n in range(n_committee):\n",
    "    os.remove(f\"{init_train_folder}/models/mace.com={n}.model\")\n"
   ]
  },
  {
   "cell_type": "code",
   "execution_count": null,
   "id": "834fa5b9",
   "metadata": {},
   "outputs": [],
   "source": [
    "! ls {init_train_folder}"
   ]
  },
  {
   "cell_type": "markdown",
   "id": "65168375",
   "metadata": {},
   "source": [
    "## Evaluation of the committee disagreement \n",
    "\n",
    "Now that we have our preliminary model, we will ask it to predict the energies on all remaining structures in the candidate pool that have not been selected into the training set yet.\n",
    "\n",
    "That will be accomplished with the function `eval_mace()` and will allow us to evaluate several very important quantities.\n",
    "\n",
    "The first is the **average committee energy prediction** \n",
    "\n",
    "$$\n",
    "\\overline{E}(\\mathbf{q}_i) \n",
    "= \\frac{1}{N_\\mathrm{c}} \\sum_{n}^{N_\\mathrm{c}} E_n(\\mathbf{q}_i),\n",
    "$$\n",
    "\n",
    "which is an important quantity in committee based models because it is typically a more accurate prediction and represents the potential energy surface on which MD is performed.\n",
    "\n",
    "To that end, we also have the **average committee force prediction** on the $\\alpha$-th atom\n",
    "\n",
    "$$\n",
    "\\overline{\\mathbf{F}}_{\\alpha}(\\mathbf{q}_i) \n",
    "= \\frac{1}{N_\\mathrm{c}} \\sum_{n}^{N_\\mathrm{c}} \\mathbf{F}_{\\alpha, n}(\\mathbf{q}_i).\n",
    "$$\n",
    "\n",
    "The second one is the **committee disagreement on energy** which we define as the standard deviation of the energy predicitons\n",
    "\n",
    "$$\n",
    "\\sigma_E(\\mathbf{q}_i)\n",
    "= \\sqrt{\\frac{1}{N_\\mathrm{c}} \\sum_{n}^{N_\\mathrm{c}} \\left[ E_n(\\mathbf{q}_i) - \\overline{E}(\\mathbf{q}_i) \\right]^2}.\n",
    "$$\n",
    "\n",
    "Consistently, we have a **committee disagreement on per-atom forces**\n",
    "\n",
    "$$\n",
    "\\sigma_{F_\\alpha}(\\mathbf{q}_i)\n",
    "= \\sqrt{\\frac{1}{N_\\mathrm{c}} \\sum_{n}^{N_\\mathrm{c}} \\left[ \\mathbf{F}_{\\alpha, n}(\\mathbf{q}_i) - \\overline{\\mathbf{F}}_\\alpha(\\mathbf{q}_i) \\right]^2}.\n",
    "$$\n",
    "\n",
    "and an averaged **committee disagreement on forces**\n",
    "\n",
    "$$\n",
    "\\sigma_F(\\mathbf{q}_i)\n",
    "= \\frac{1}{N_\\mathrm{atoms}} \\sum_{n}^{N_\\mathrm{atoms}} \\sigma_{F_\\alpha}(\\mathbf{q}_i).\n",
    "$$\n",
    "\n",
    "This quantity is the centerpiece of QbC and is preferred over $\\sigma_E$ for several practical reasons.\n",
    "\n",
    "It serves as an uncertainty measure: the more the committee members disagree, the less sure they are about what the correct output should actually be.\n",
    "\n",
    "As such, the committee disagreement *correlates* with the actual error of prediction (*i.e.*, the generalization error) but it is important to remember that they are not the same quantity! We will come back to this shortly."
   ]
  },
  {
   "cell_type": "code",
   "execution_count": null,
   "id": "1a30d5e4-fb47-4235-9637-e52e1cf3822f",
   "metadata": {},
   "outputs": [],
   "source": [
    "# Predict with all MACE committee members\n",
    "for n in tqdm(range(n_committee)):\n",
    "    eval_mace(f'{init_train_folder}/models/mace.com={n:d}_compiled.model',\n",
    "              'init-train/structures/remaining.extxyz',\n",
    "              f'{init_train_folder}/eval/train_{n:02d}.extxyz')   "
   ]
  },
  {
   "cell_type": "code",
   "execution_count": null,
   "id": "f275d239-1950-4e27-b3a5-01ebd61ee625",
   "metadata": {},
   "outputs": [],
   "source": [
    "disagreement = {}"
   ]
  },
  {
   "cell_type": "code",
   "execution_count": null,
   "id": "763fa76a-89cd-44dd-89a8-f21f2c8c8fb0",
   "metadata": {},
   "outputs": [],
   "source": []
  },
  {
   "cell_type": "code",
   "execution_count": null,
   "id": "4e5d246d",
   "metadata": {},
   "outputs": [],
   "source": [
    "# read in predicted energies, evaluate average energies and disagreements\n",
    "forces         = np.array([extxyz2array(f'{init_train_folder}/eval/train_{n:02d}.extxyz', keyword='MACE_forces') \n",
    "                           for n in tqdm(range(n_committee))])\n",
    "avg_forces     = forces.mean(axis=0)   # (1000, 7, 3)\n",
    "\n",
    "dforces = forces - forces.mean(axis=0)[None, ...]\n",
    "disagreement_atomic = np.sqrt( ( (dforces**2).sum(axis=3) ).mean(axis=0) )\n",
    "disagreement['before qbc'] = disagreement_atomic.mean(axis=1)"
   ]
  },
  {
   "cell_type": "code",
   "execution_count": null,
   "id": "62c3e406-5fe2-4487-b114-983527a7f748",
   "metadata": {},
   "outputs": [],
   "source": [
    "for n, f in enumerate(forces):\n",
    "    plt.plot(f[:, -1, -1], 'o', markersize=1, label=rf'$F_{n:d}$', alpha=0.5, linewidth=0.5)\n",
    "plt.plot(avg_forces[:, -1, -1], 'o', markersize=1, label=r'$\\overline{F}$', color='k',linewidth=0.5)\n",
    "plt.legend(loc=\"upper right\",bbox_to_anchor=(1.15, 1), borderaxespad=0.)\n",
    "plt.xlabel('Data point index')\n",
    "plt.ylabel(r'Force component [eV / $\\mathrm{\\AA}$]')\n",
    "plt.title('Force prediction $F_z$ of the H$^+$ by the initial committee model')\n",
    "plt.tight_layout();"
   ]
  },
  {
   "cell_type": "code",
   "execution_count": null,
   "id": "e3580a02",
   "metadata": {},
   "outputs": [],
   "source": [
    "fig, ax = plt.subplots(ncols=2, nrows=1, sharey=True, gridspec_kw=dict(width_ratios=[1, 0.2]))\n",
    "ax[0].plot(disagreement['before qbc'], label='Before QbC')\n",
    "ax[0].set_ylabel(r'$\\sigma_F$ [eV / $\\mathrm{\\AA}$]')\n",
    "ax[0].set_xlabel('Data point index')\n",
    "ax[0].grid(True)\n",
    "ax[0].set_title('Committee disagreement on forces')\n",
    "ax[0].legend()\n",
    "\n",
    "ax[1].hist(disagreement['before qbc'], bins=50, orientation='horizontal', density=True)\n",
    "ax[1].plot(10, disagreement['before qbc'].mean(), '<', c='r')\n",
    "ax[1].set_xlabel('Probability')\n",
    "ax[1].set_xticks([0])\n",
    "\n",
    "plt.tight_layout();"
   ]
  },
  {
   "cell_type": "markdown",
   "id": "9cf7ceed-f6c9-4f6a-ae51-5c1dd9f47efa",
   "metadata": {},
   "source": [
    "# Select relevant training data via query by committee\n",
    "\n",
    "At this point, we have an initial committee model that can predict $\\sigma_F$ for arbitrary data points from the remaining candidate pool.\n",
    "\n",
    "With this ability in our hands, we can now proceed to the actual execution of the QbC procedure.\n",
    "\n",
    "There one iteratively predicts $\\sigma_F$ over the remaining candidate pool, selects a fixed number of candidate geometries that feature the **highest** $\\sigma_F$ and adds them to the training set and retrains the committee.\n",
    "\n",
    "If you are curious about a detailed insight, have a look at the function `run_qbc()` contained in the `myfunctions.py` file. "
   ]
  },
  {
   "cell_type": "markdown",
   "id": "1d24d0c4-f54f-47ee-82e6-9b8f312cb2a0",
   "metadata": {},
   "source": [
    "## TODO\n",
    "Think about how we want to spend the 10 minutes while the QbCs are running."
   ]
  },
  {
   "cell_type": "code",
   "execution_count": null,
   "id": "485214c3-454e-437c-af4c-4752441d7e61",
   "metadata": {},
   "outputs": [],
   "source": [
    "# Run QbC\n",
    "os.makedirs(qbc_folder, exist_ok=True)\n",
    "os.makedirs(f'{qbc_folder}/config', exist_ok=True)\n",
    "# seeds = np.random.randint(0, 2**32 - 1, size=n_committee, dtype=np.uint32)\n",
    "for i in range(n_committee):\n",
    "    filename = f\"{qbc_folder}/config/config.{i}.yml\"\n",
    "    name = f\"mace.com={i}\"\n",
    "    \n",
    "    config_text = f\"\"\"\n",
    "# You can modify the following parameters\n",
    "num_channels: 16\n",
    "max_L: 1            # take it larger but not smaller\n",
    "max_ell: 2          # take it larger but not smaller\n",
    "correlation: 2      # take it larger but not smaller\n",
    "num_interactions: 2 # take it larger but not smaller\n",
    "\n",
    "# ... but you can also modify these ones\n",
    "r_max: 4.0\n",
    "batch_size: 4\n",
    "max_num_epochs: 10000 # this is basically early stopping\n",
    "patience: 10       # we are a bit in a rush\n",
    "\n",
    "# But please, do not modify these parameters!\n",
    "model: \"MACE\"\n",
    "name: \"{name}\"\n",
    "\n",
    "model_dir      : \"{qbc_folder}/models\"\n",
    "log_dir        : \"{qbc_folder}/log\"\n",
    "checkpoints_dir: \"{qbc_folder}/checkpoints\"\n",
    "results_dir    : \"{qbc_folder}/results\"\n",
    "\n",
    "train_file: \"{qbc_folder}/train-iter.extxyz\"\n",
    "# test_file : \"{init_train_folder}/structures/test.extxyz\"\n",
    "energy_key: \"REF_energy\"\n",
    "forces_key: \"REF_forces\"\n",
    "energy_weight: 1\n",
    "forces_weight: 100\n",
    "\n",
    "\n",
    "\n",
    "E0s: \n",
    "  1: -13.7487804074635\n",
    "  8: -2045.41865185226\n",
    "device: cpu\n",
    "swa: false\n",
    "seed: {seeds[i]}\n",
    "restart_latest: True\n",
    "distributed: False\n",
    "\n",
    "\"\"\"\n",
    "\n",
    "    with open(filename, \"w\") as f:\n",
    "        f.write(config_text)\n",
    "\n",
    "    print(f\"Wrote {filename}\")"
   ]
  },
  {
   "cell_type": "code",
   "execution_count": null,
   "id": "c457e1ea",
   "metadata": {},
   "outputs": [],
   "source": [
    "# Attention: this function will not restart from a previously stopped run\n",
    "run_qbc(\n",
    "    init_train_folder=init_train_folder,\n",
    "    init_train_file=f\"{init_train_folder}/structures/init.train.extxyz\", # initial training dataset\n",
    "    fn_candidates=f'{init_train_folder}/structures/remaining.extxyz',    # candidate structures\n",
    "    test_dataset=f'{init_train_folder}/structures/test.extxyz',          # test set\n",
    "    n_iter=n_iter_qbc,                                                   # number of QbC iterations\n",
    "    config=f'{qbc_folder}/config',                                       # folder with config files\n",
    "    ofolder=qbc_folder,                                                  # folder to save the QBC results\n",
    "    n_add_iter=n_add_iter,                                               # number of structures to add in each iteration\n",
    "    recalculate_selected=False,                                          # whether to recalculate the selected structures with DFT (part 2)\n",
    "    parallel=parallel\n",
    ");\n",
    "# it should take 9m"
   ]
  },
  {
   "cell_type": "markdown",
   "id": "7cd8fa6d",
   "metadata": {},
   "source": [
    "### Monitoring QbC convergence\n",
    "\n",
    "How does one know when the QbC cycle has converged? Simply setting a threshold value for $\\sigma_F$ is not the best idea since one does not *a priori* know what it should be.\n",
    "\n",
    "A better way to look at it is to consider the QbC converged once all the *unlearned* information has been extracted from the candidate set and nothing new remains for the committee to learn.\n",
    "\n",
    "To visualize this, we can plot the evolution of $\\sigma_F$ for each new added batch of structures and see how that comes closer to the value of $\\sigma_F$ averaged over the candidate pool.\n",
    "\n",
    "In practice, one will be always selecting from the high-end tail of the disagreement distribution of the candidates, so one stops the QbC once those curves reach a plateau."
   ]
  },
  {
   "cell_type": "code",
   "execution_count": null,
   "id": "9ae2e41a",
   "metadata": {},
   "outputs": [],
   "source": [
    "n_training_structures = np.arange(n_init_train, (n_iter_qbc * n_add_iter) + n_init_train, n_add_iter)\n",
    "sigma = np.loadtxt('qbc-work/disagreement.txt').T\n",
    "\n",
    "plt.plot(n_training_structures, sigma[0], '-o', label='Selected', color=\"blue\")\n",
    "plt.plot(n_training_structures, sigma[1], '-o', label='Candidates', color=\"red\")\n",
    "plt.legend()\n",
    "plt.xlabel('Number of training structures')\n",
    "plt.ylabel(r'$\\langle \\sigma_F \\rangle$ [eV / $\\mathrm{\\AA}$]')\n",
    "plt.tight_layout();"
   ]
  },
  {
   "cell_type": "markdown",
   "id": "8325a68c-37f5-4d2f-9e01-094ecac6c929",
   "metadata": {},
   "source": [
    "## Relation between $\\sigma_F$ and the generalization error"
   ]
  },
  {
   "cell_type": "markdown",
   "id": "847e6ce6-4675-4ce8-8b03-a76fb82a8d1a",
   "metadata": {},
   "source": [
    "Here, we will demonstrate that $\\sigma_F$ is a *measure* of uncertainty, but is not equivalent to the **generalization error**, *i.e.*, the actual error of the model in prediction performed on previously unseen data.\n",
    "\n",
    "In order to do this, we do an identical exercise as before: we let the committee predict on the remaining candidate structures, which will give us the predicted forces from which we derive the disagreement $\\sigma_F$.\n",
    "\n",
    "Then, since the initial candidate set is labeled, we take the **reference forces** and calculate the generalization as the RMSE\n",
    "$$\n",
    "\\text{RMSE}_F =\n",
    "\\sqrt{\\frac{1}{N} \\sum_{\\alpha=1}^{N} \\left( \\overline{\\mathbf{F}}_\\alpha - \\mathbf{F}_\\alpha^\\text{ref} \\right)^2}\n",
    "$$\n",
    "\n",
    "and simply correlate the two quantities."
   ]
  },
  {
   "cell_type": "code",
   "execution_count": null,
   "id": "50ca6434-0010-4ae6-a789-0daac2e64c80",
   "metadata": {},
   "outputs": [],
   "source": [
    "# Predict with all MACE committee members\n",
    "for n in tqdm(range(n_committee)):\n",
    "    eval_mace(f'{qbc_folder}/models/mace.com={n:d}_compiled.model',\n",
    "              'init-train/structures/remaining.extxyz',\n",
    "              f'{qbc_folder}/eval/train_{n:02d}.extxyz')  "
   ]
  },
  {
   "cell_type": "code",
   "execution_count": null,
   "id": "b75fd8ec-76f4-40bd-a212-8734f0355e0f",
   "metadata": {},
   "outputs": [],
   "source": [
    "forces = np.array([extxyz2array(f'{qbc_folder}/eval/train_{n:02d}.extxyz', keyword='MACE_forces') \n",
    "                           for n in tqdm(range(n_committee))])\n",
    "avg_forces = forces.mean(axis=0)   # (1000, 7, 3)\n",
    "dforces = forces - forces.mean(axis=0)[None, ...]\n",
    "disagreement_atomic = np.sqrt( ( (dforces**2).sum(axis=3) ).mean(axis=0) )\n",
    "disagreement_after_qbc = disagreement_atomic.mean(axis=1)"
   ]
  },
  {
   "cell_type": "code",
   "execution_count": null,
   "id": "b64d0ea6-150c-4094-ab8c-4249fbbf7f0e",
   "metadata": {},
   "outputs": [],
   "source": [
    "ref_forces = np.array(extxyz2array('init-train/structures/remaining.extxyz', keyword='REF_forces'))\n",
    "rmse = np.sqrt( ( ( (avg_forces - ref_forces)**2 ).sum(axis=2) ).mean(axis=1) )"
   ]
  },
  {
   "cell_type": "code",
   "execution_count": null,
   "id": "07fde0a2-885f-46a6-8c89-b79b4c101118",
   "metadata": {},
   "outputs": [],
   "source": [
    "plt.plot(rmse, rmse, color='k', dashes=(2, 4), dash_capstyle='round')\n",
    "plt.scatter(rmse, disagreement_after_qbc, s=5)\n",
    "plt.xlabel(r'Force RMSE [eV / $\\mathrm{\\AA}$]')\n",
    "plt.ylabel(r'$\\sigma_F$ [eV / $\\mathrm{\\AA}$]')\n",
    "plt.tight_layout();"
   ]
  },
  {
   "cell_type": "markdown",
   "id": "4678a410-44a9-4232-a0bf-5d1553cd56bd",
   "metadata": {},
   "source": [
    "A correlation is clear. This makes sense, since the two quantities are related by their physical meaning, but they are nowhere near identical. However...\n",
    "\n",
    "## TODO\n",
    "\n",
    "At this point, Shubham could briefly tell the students how you can rescale the forces to correct this correlation, make $\\sigma$ actually represent the generalization error and propagate that error to various interesting quantities."
   ]
  },
  {
   "cell_type": "markdown",
   "id": "e0f551ab",
   "metadata": {},
   "source": [
    "## Test dataset\n",
    "\n",
    "Elia: please check that whatever I'm doing is correct, I rewrote your code for forces, but I'm not 100% sure.\n",
    "\n",
    "After showing the corrected plot below, please report the total error of the obtained model over this test set and make a well visible print out of these - these numbers are something that any MLP person can relate to easily."
   ]
  },
  {
   "cell_type": "code",
   "execution_count": null,
   "id": "f51fec49",
   "metadata": {},
   "outputs": [],
   "source": [
    "forces = None\n",
    "all_forces = None\n",
    "for i_iter in range(n_iter_qbc):\n",
    "    predictions = [None] * n_committee\n",
    "    for n_model in range(n_committee):\n",
    "        file = f\"{qbc_folder}/eval/test.model={n_model}.iter={i_iter}.extxyz\"\n",
    "        structures = read(file, index=\":\")\n",
    "        if forces is None:\n",
    "            forces = np.zeros((len(structures), n_committee, 7, 3))\n",
    "            all_forces = np.zeros((n_iter_qbc, len(structures), n_committee, 7, 3))\n",
    "        forces[:, n_model] = [atoms.arrays[\"MACE_forces\"] for atoms in structures]\n",
    "    all_forces[i_iter, ...] = forces\n",
    "np.save(f\"{qbc_folder}/test-energy.npy\", all_forces)"
   ]
  },
  {
   "cell_type": "code",
   "execution_count": null,
   "id": "5e256a3c",
   "metadata": {},
   "outputs": [],
   "source": [
    "disagreement = np.std(all_forces, axis=(2, 3, 4))\n",
    "disagreement_mean = np.mean(disagreement, axis=1)"
   ]
  },
  {
   "cell_type": "code",
   "execution_count": null,
   "id": "a4f371bb",
   "metadata": {},
   "outputs": [],
   "source": [
    "n_training_structures = np.arange(n_init_train, (n_iter_qbc * n_add_iter) + n_init_train, n_add_iter)\n",
    "plt.plot(n_training_structures, disagreement_mean, \"-o\", label=\"Test set\", color=\"green\")\n",
    "plt.legend()\n",
    "plt.xlabel('Number of training structures')\n",
    "plt.ylabel(r'$\\sigma_F$ [eV / $\\mathrm{\\AA}$]')\n",
    "plt.show()"
   ]
  },
  {
   "cell_type": "markdown",
   "id": "decf6f00-5814-4d5d-bfa9-b4d9c78309fe",
   "metadata": {},
   "source": [
    "## Part II: Zundel cation inference simulation"
   ]
  },
  {
   "cell_type": "markdown",
   "id": "3c451d5c-8423-427a-a68a-4bc1b489a69e",
   "metadata": {},
   "source": [
    "We have reached a point at which we have a trained committee model that can be used as a potential energy surface to drive MD simulations.\n",
    "We will run a simple classical 300 K NVT simulation using the i-PI software and monitor the force disagreement along the trajectory.\n",
    "\n",
    "Please, transfer to the folder `ipi_examples/zundel_inference` which contains all the necessary input to run such a simulation.\n",
    "Pay a special attention to the `<ffsocket>` and `<forces>` tags and how they are used to take a committee model into account.\n",
    "\n",
    "## TODO\n",
    "\n",
    "A short description of how to run the simulation in words (commands, files, etc.)"
   ]
  },
  {
   "cell_type": "markdown",
   "id": "4bf8d3d0-80fd-4f02-b6f3-5464800629e4",
   "metadata": {},
   "source": [
    "### Monitoring the disagreement along the trajectory\n",
    "\n",
    "Now that our simulation is finished, we will have a look at how our committee performed.\n",
    "The $\\sigma_F$ is an extremely useful measure of simulation stability and monitioring is along the way quickly allows one to discover when the model starts to extrapolate and yield potentially unphysical predictions.\n",
    "\n",
    "How does the disagreement evolution look? Do you see any sudden jumps, or does the disagreement oscillate around an average value but does not significantly change?"
   ]
  },
  {
   "cell_type": "code",
   "execution_count": null,
   "id": "ce7a37d3-db6b-4dd7-8669-d58dcc6f736b",
   "metadata": {},
   "outputs": [],
   "source": [
    "forces = np.array([extxyz2array(f'../ipi-examples/zundel-inference/ipi.mace_force_{n:d}.extxyz', \n",
    "                                keyword='forces_component_raw') \n",
    "                   for n in tqdm(range(n_committee))])\n",
    "\n",
    "dforces = forces - forces.mean(axis=0)[None, ...]\n",
    "disagreement_atomic = np.sqrt( ( (dforces**2).sum(axis=3) ).mean(axis=0) )\n",
    "disagreement['after qbc'] = disagreement_atomic.mean(axis=1)"
   ]
  },
  {
   "cell_type": "code",
   "execution_count": null,
   "id": "f013cac1-5184-44d0-82f9-ae69670720b6",
   "metadata": {},
   "outputs": [],
   "source": [
    "dt = 0.5e-3 # ps\n",
    "stride = 20 # steps\n",
    "\n",
    "fig, ax = plt.subplots(ncols=2, nrows=1, sharey=True, gridspec_kw=dict(width_ratios=[1, 0.2]))\n",
    "ax[0].plot(disagreement['before qbc'], label='Before QbC')\n",
    "ax[0].plot(disagreement['after qbc'], label='After QbC')\n",
    "ax[0].set_ylabel(r'$\\sigma_F$ [eV / $\\mathrm{\\AA}$]')\n",
    "ax[0].set_xlabel('Data point index')\n",
    "ax[0].grid(True)\n",
    "ax[0].set_title('Committee disagreement on forces')\n",
    "ax[0].legend()\n",
    "\n",
    "ax[1].hist(disagreement['before qbc'], bins=50, orientation='horizontal', density=True)\n",
    "ax[1].plot(10, disagreement['before qbc'].mean(), '<', c='r')\n",
    "ax[1].hist(disagreement['after qbc'], bins=50, orientation='horizontal', density=True)\n",
    "ax[1].plot(10, disagreement['after qbc'].mean(), '<', c='r')\n",
    "ax[1].set_xlabel('Probability')\n",
    "ax[1].set_xticks([0])\n",
    "\n",
    "plt.tight_layout();"
   ]
  },
  {
   "cell_type": "code",
   "execution_count": null,
   "id": "0eb8f63a-3260-4416-bf61-020d8794b873",
   "metadata": {},
   "outputs": [],
   "source": []
  }
 ],
 "metadata": {
  "kernelspec": {
   "display_name": "alt",
   "language": "python",
   "name": "python3"
  },
  "language_info": {
   "codemirror_mode": {
    "name": "ipython",
    "version": 3
   },
   "file_extension": ".py",
   "mimetype": "text/x-python",
   "name": "python",
   "nbconvert_exporter": "python",
   "pygments_lexer": "ipython3",
   "version": "3.9.22"
  }
 },
 "nbformat": 4,
 "nbformat_minor": 5
}
