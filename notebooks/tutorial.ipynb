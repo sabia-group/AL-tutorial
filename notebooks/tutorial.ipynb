{
 "cells": [
  {
   "cell_type": "markdown",
   "id": "0034a6df",
   "metadata": {},
   "source": [
    "# Active Learning Tutorial: Zundel cation\n",
    "\n",
    "1. Load all the modules\n",
    "2. read the training pool \n",
    "3. select random training set of 25 structure from the pool (can be done with np.rand) --> latter exclude these from the pool\n",
    "4. Train a committee (just to check we can train 2)\n",
    "5. predict on the training pool and sort max energy error\n",
    "6. Then we repeat in a for loop."
   ]
  },
  {
   "cell_type": "markdown",
   "id": "f5ad02c8",
   "metadata": {},
   "source": [
    "## To Do "
   ]
  },
  {
   "cell_type": "markdown",
   "id": "d73a8f15",
   "metadata": {},
   "source": [
    "- for loop everywhere\n",
    "- avoid using scripts for MACE\n",
    "- fix E0s"
   ]
  },
  {
   "cell_type": "code",
   "execution_count": null,
   "id": "d7e2ff4d",
   "metadata": {},
   "outputs": [],
   "source": [
    "from IPython.display import Image, display\n",
    "display(Image(filename='../initial-datasets/zundel/zundel.png'))"
   ]
  },
  {
   "cell_type": "markdown",
   "id": "e3ec7dae",
   "metadata": {},
   "source": [
    "## Import modules"
   ]
  },
  {
   "cell_type": "code",
   "execution_count": null,
   "id": "a324d3d9",
   "metadata": {},
   "outputs": [],
   "source": [
    "import os, sys\n",
    "# import warnings\n",
    "# import logging\n",
    "from contextlib import redirect_stdout, redirect_stderr\n",
    "import multiprocessing\n",
    "import numpy as np\n",
    "import matplotlib.pyplot as plt\n",
    "from ase.io import read, write                                      # read and write structures\n",
    "from ase.visualize import view                                      # visualize structures (optional)\n",
    "from mace.cli.run_train import main as mace_run_train_main          # train a MACE model\n",
    "from mace.cli.eval_configs import main as mace_eval_configs_main    # evaluate a MACE model\n",
    "np.random.seed(0)"
   ]
  },
  {
   "cell_type": "code",
   "execution_count": null,
   "id": "31c06c11-8556-4fb8-a500-72b08bd44e8e",
   "metadata": {},
   "outputs": [],
   "source": [
    "plt.style.use('notebook.mplstyle')"
   ]
  },
  {
   "cell_type": "code",
   "execution_count": null,
   "id": "2e7cca2f",
   "metadata": {},
   "outputs": [],
   "source": [
    "# definition of some helper functions\n",
    "def extxyz2energy(file:str,keyword:str=\"MACE_energy\"):\n",
    "    \"\"\"\n",
    "    Extracts the energy values from an extxyz file and returns a numpy array\n",
    "    \"\"\"\n",
    "    atoms = read(file, index=':')\n",
    "    data = np.zeros(len(atoms),dtype=float)\n",
    "    for n,atom in enumerate(atoms):\n",
    "        data[n] = atom.info[keyword]\n",
    "    return data\n",
    "\n",
    "def train_mace(config:str):\n",
    "    \"\"\"\n",
    "    Train a MACE model using the provided configuration file.\n",
    "    \"\"\"\n",
    "    sys.argv = [\"program\", \"--config\", config]\n",
    "    mace_run_train_main()\n",
    "    \n",
    "def eval_mace(model:str,infile:str,outfile:str):\n",
    "    \"\"\"\n",
    "    Evaluate a MACE model.\n",
    "    \"\"\"\n",
    "    sys.argv = [\"program\", \"--config\", infile,\"--output\",outfile,\"--model\",model]\n",
    "    mace_eval_configs_main()"
   ]
  },
  {
   "cell_type": "code",
   "execution_count": null,
   "id": "c17576fb",
   "metadata": {},
   "outputs": [],
   "source": [
    "os.makedirs('config', exist_ok=True)\n",
    "os.makedirs('models', exist_ok=True)\n",
    "# os.makedirs('log', exist_ok=True)\n",
    "# os.makedirs('chk', exist_ok=True)\n",
    "# os.makedirs('results', exist_ok=True)\n",
    "os.makedirs('structures', exist_ok=True)"
   ]
  },
  {
   "cell_type": "code",
   "execution_count": null,
   "id": "edb7edff",
   "metadata": {},
   "outputs": [],
   "source": [
    "N_INIT_TRAIN = 20\n",
    "N_TEST = 50  \n",
    "N_COMMITTEE = 4\n",
    "PARALLEL = True"
   ]
  },
  {
   "cell_type": "markdown",
   "id": "9c375f6e",
   "metadata": {},
   "source": [
    "## Select initial training structures"
   ]
  },
  {
   "cell_type": "code",
   "execution_count": null,
   "id": "301a5007",
   "metadata": {},
   "outputs": [],
   "source": [
    "# Read the all the structures from file\n",
    "structures = read('../initial-datasets/zundel/train.extxyz', index=':')\n",
    "print(f'Total number of structures: {len(structures)}')\n",
    "# view(structures)  # Opens an interactive GUI window to visualize the structures"
   ]
  },
  {
   "cell_type": "code",
   "execution_count": null,
   "id": "3df9b0e8",
   "metadata": {},
   "outputs": [],
   "source": [
    "# Create the initial training and test sets\n",
    "selected_indices = np.random.choice(len(structures), size=N_INIT_TRAIN+N_TEST, replace=False)\n",
    "remaining_candidate_idcs = np.delete(np.arange(len(structures)), selected_indices)\n",
    "\n",
    "indices_train = selected_indices[:N_INIT_TRAIN]\n",
    "indices_test = selected_indices[N_INIT_TRAIN:]\n",
    "assert len(indices_train) == N_INIT_TRAIN\n",
    "assert len(indices_test) == N_TEST\n",
    "\n",
    "print(f'\\nSelected indices for training: {indices_train}')\n",
    "print(f'\\nSelected indices for test: {indices_test}')\n",
    "\n",
    "initial_training_set = [structures[i] for i in indices_train]\n",
    "test_set     = [structures[i] for i in indices_test]\n",
    "\n",
    "print(f\"\\nSaving the initial training set to 'structures/init.train.extxyz'\")\n",
    "write('structures/init.train.extxyz', initial_training_set, format='extxyz')\n",
    "\n",
    "print(f\"\\nSaving the test set to 'structures/test.extxyz'\")\n",
    "write('structures/test.extxyz', test_set, format='extxyz')"
   ]
  },
  {
   "cell_type": "markdown",
   "id": "fa1077ec",
   "metadata": {},
   "source": [
    "## Initial Training"
   ]
  },
  {
   "cell_type": "markdown",
   "id": "71cf1a48",
   "metadata": {},
   "source": [
    "Hyperparameters for the committee members"
   ]
  },
  {
   "cell_type": "code",
   "execution_count": null,
   "id": "5820af06",
   "metadata": {},
   "outputs": [],
   "source": [
    "# Define different values for each config\n",
    "os.makedirs('config', exist_ok=True)\n",
    "seeds = np.random.randint(0, 2**32 - 1, size=N_COMMITTEE, dtype=np.uint32)\n",
    "for i in range(4):\n",
    "    filename = f\"config/config.{i}.yml\"\n",
    "    name = f\"mace.com={i}\"\n",
    "    \n",
    "    config_text = f\"\"\"\n",
    "# You can modify the following parameters\n",
    "num_channels: 16\n",
    "max_L: 0            # take it larger but not smaller\n",
    "max_ell: 1          # take it larger but not smaller\n",
    "correlation: 1      # take it larger but not smaller\n",
    "num_interactions: 2 # take it larger but not smaller\n",
    "\n",
    "# ... but you can also modify these ones\n",
    "r_max: 4.0\n",
    "batch_size: 4\n",
    "max_num_epochs: 100\n",
    "\n",
    "# But please, do not modify these parameters!\n",
    "model: \"MACE\"\n",
    "name: \"{name}\"\n",
    "model_dir: \"models\"\n",
    "log_dir: \"log\"\n",
    "checkpoints_dir: \"checkpoints\"\n",
    "results_dir: \"results\"\n",
    "train_file: \"structures/init.train.extxyz\"\n",
    "energy_key: \"REF_energy\"\n",
    "forces_key: \"REF_forces\"\n",
    "E0s: \"average\" # to be fixed\n",
    "device: cpu\n",
    "swa: true\n",
    "seed: {seeds[i]}\n",
    "restart_latest: True\n",
    "\"\"\"\n",
    "\n",
    "    with open(filename, \"w\") as f:\n",
    "        f.write(config_text)\n",
    "\n",
    "    print(f\"Wrote {filename}\")"
   ]
  },
  {
   "cell_type": "markdown",
   "id": "6bb71122",
   "metadata": {},
   "source": [
    "Train a committee of MACE models."
   ]
  },
  {
   "cell_type": "code",
   "execution_count": null,
   "id": "649dc136",
   "metadata": {},
   "outputs": [],
   "source": [
    "# %%capture # supppress output\n",
    "# train a committee of MACE models\n",
    "os.makedirs('models', exist_ok=True)\n",
    "if PARALLEL:\n",
    "    def train_single_model(n):\n",
    "        config_path = f\"config/config.{n}.yml\"\n",
    "        with open(os.devnull, 'w') as fnull:\n",
    "            with redirect_stdout(fnull), redirect_stderr(fnull):\n",
    "                train_mace(config_path)\n",
    "            \n",
    "    with multiprocessing.Pool(processes=multiprocessing.cpu_count()) as pool:\n",
    "        pool.map(train_single_model, range(N_COMMITTEE))\n",
    "else:    \n",
    "    for n in range(N_COMMITTEE):\n",
    "        train_mace(f\"config/config.{n}.yml\")\n",
    "        \n",
    "# it should take around 25s"
   ]
  },
  {
   "cell_type": "code",
   "execution_count": null,
   "id": "8d5c0921",
   "metadata": {},
   "outputs": [],
   "source": [
    "# remove useless files\n",
    "for filename in os.listdir('log'):\n",
    "    if filename.endswith('_debug.log'):\n",
    "        file_path = os.path.join('log', filename)\n",
    "        os.remove(file_path)\n",
    "        \n",
    "for n in range(N_COMMITTEE):\n",
    "    \n",
    "    # models\n",
    "    filenames = [f\"models/mace.com={n}.model\",\n",
    "                 f\"models/mace.com={n}_compiled.model\",\n",
    "                 f\"models/mace.com={n}_stagetwo.model\"]\n",
    "    for filename in filenames:\n",
    "        if os.path.exists(filename):\n",
    "            os.remove(filename)\n",
    "    \n",
    "    if os.path.exists(f\"models/mace.com={n}_stagetwo_compiled.model\"):\n",
    "        os.rename(f\"models/mace.com={n}_stagetwo_compiled.model\",f\"models/mace.n={n}.model\")\n",
    "    \n",
    "for filename in os.listdir('results'):\n",
    "    if filename.endswith('.txt') or filename.endswith('stage_one.png'):\n",
    "        file_path = os.path.join('results', filename)\n",
    "        os.remove(file_path)"
   ]
  },
  {
   "cell_type": "markdown",
   "id": "65168375",
   "metadata": {},
   "source": [
    "## Evaluation"
   ]
  },
  {
   "cell_type": "code",
   "execution_count": null,
   "id": "6d062804",
   "metadata": {},
   "outputs": [],
   "source": [
    "# eval_mace(\"MACE_models/mace_com1_stagetwo_compiled.model\",'../initial-datasets/zundel/train.extxyz',\"eval_train_01.extxyz\") # 50s\n",
    "eval_mace(\"MACE_models/mace_com2_stagetwo_compiled.model\",'../initial-datasets/zundel/train.extxyz',\"eval_train_02.extxyz\")"
   ]
  },
  {
   "cell_type": "code",
   "execution_count": null,
   "id": "b54b7169",
   "metadata": {},
   "outputs": [],
   "source": [
    "E1 = extxyz2energy(\"eval_train_01.extxyz\")\n",
    "E2 = extxyz2energy(\"eval_train_02.extxyz\")"
   ]
  },
  {
   "cell_type": "code",
   "execution_count": null,
   "id": "e9d952ba",
   "metadata": {},
   "outputs": [],
   "source": [
    "plt.scatter(E1,E2)"
   ]
  },
  {
   "cell_type": "code",
   "execution_count": null,
   "id": "4f3c0ce9",
   "metadata": {},
   "outputs": [],
   "source": [
    "plt.plot(E1[selected_indices], label='MACE 1')\n",
    "plt.plot(E2[selected_indices], label='MACE 2')"
   ]
  },
  {
   "cell_type": "code",
   "execution_count": null,
   "id": "718a7765",
   "metadata": {},
   "outputs": [],
   "source": [
    "E = np.array([E1,E2]).T\n",
    "mean = np.mean(E, axis=1) # mean of each structure\n",
    "std = np.std(E, axis=1) # std of each structure"
   ]
  },
  {
   "cell_type": "code",
   "execution_count": null,
   "id": "cc857067",
   "metadata": {},
   "outputs": [],
   "source": [
    "plt.plot(E1, label='MACE 1',color='red',alpha=0.5)\n",
    "plt.plot(E2, label='MACE 2',color='blue',alpha=0.5)\n",
    "plt.plot(mean, label='mean',color='green')\n",
    "# plt.fill_between(range(len(mean)), mean-std, mean+std, color='green', alpha=0.2)\n",
    "plt.legend()"
   ]
  },
  {
   "cell_type": "code",
   "execution_count": null,
   "id": "448367b8",
   "metadata": {},
   "outputs": [],
   "source": [
    "plt.plot(mean, label='mean',color='green')\n",
    "plt.fill_between(range(len(mean)), mean-std, mean+std, color='green', alpha=0.2)\n",
    "plt.legend()"
   ]
  },
  {
   "cell_type": "code",
   "execution_count": null,
   "id": "3a888786",
   "metadata": {},
   "outputs": [],
   "source": [
    "# Fix this\n",
    "new_candidates = np.argsort(std[remaining_candidate_idcs])[:10]\n",
    "plt.scatter(np.arange(len(std)),std, label='mean',color='green',s=1)\n",
    "plt.scatter(new_candidates,std[new_candidates],color=\"red\",s=1)"
   ]
  },
  {
   "cell_type": "markdown",
   "id": "9cf7ceed-f6c9-4f6a-ae51-5c1dd9f47efa",
   "metadata": {},
   "source": [
    "# Select relevant training data via Query by Committee (QbC)\n",
    "\n",
    "Some text..."
   ]
  },
  {
   "cell_type": "code",
   "execution_count": null,
   "id": "03aa623a",
   "metadata": {},
   "outputs": [],
   "source": [
    "def run_qbc(committee, fn_candidates, n_iter, n_add_iter=10, recalculate_selected=False, calculator=None):\n",
    "    \"\"\"Main QbC loop.\"\"\"\n",
    "    # TODO: Add the possibility of attaching a ASE calculator for later when we need to address unlabeled data.\n",
    "    # TODO: think about striding the candidates to make it more efficient\n",
    "\n",
    "    print(f'Starting QbC.')\n",
    "    print(f'{n_iter:d} iterations will be done in total and {n_add_iter:d} will be added every iteration.')\n",
    "\n",
    "    if recalculate:\n",
    "        assert calculator is not None, 'If a first-principles recalculation of training data is requested, a corresponding ASE calculator must be provided.'\n",
    "\n",
    "    candidates = ase.io.read(fn_candidates)\n",
    "    training_set = []\n",
    "    for _ in tqdm(range(n_iter)):\n",
    "\n",
    "        # predict sigma on all candidates\n",
    "        print(f'Predicting committee disagreement across the candidate pool.')\n",
    "        energies = []\n",
    "        for model in committee:\n",
    "            eval_mace(\"MACE_models/mace_com1_stagetwo_compiled.model\", '../initial-datasets/zundel/train.extxyz', \"eval_train_01.extxyz\") # Explicit arguments!\n",
    "            e = extxyz2energy(\"eval_train_01.extxyz\")\n",
    "            #FIXME: if we could do something about passing the files back and forth, that would be great, but only if it is not too much work...\n",
    "            energies.append(e)\n",
    "        energies = np.array(energies)\n",
    "        disagreement = energies.std(axis=-1)\n",
    "        avg_disagreement_pool = disagreement.mean()\n",
    "\n",
    "        # pick the `n_add_iter` highest-disagreement structures\n",
    "        print(f'Picking {n_add_iter:d} new highest-disagreement data points.')\n",
    "        idcs_selected = np.argsort(disagreement)[:n_add_iter]\n",
    "        avg_disagreement_selected = (disagreement[idcs_selected]).mean()\n",
    "        # TODO: an ASE calculator will come here\n",
    "        if recalculate:\n",
    "            print(f'Recalculating ab initio energies and forces for new data points.')\n",
    "            for structure in candidates[idcs_selected]:\n",
    "                structure.calc = calculator\n",
    "                structure.get_potential_energy()\n",
    "                structure.get_forces\n",
    "        training_set.append(candidates[idcs_selected])\n",
    "        candidates = np.delete(candidates, idcs_selected)\n",
    "\n",
    "        # retrain the committee with the enriched training set\n",
    "        print(f'Retraining committee.')\n",
    "        for model in committee:\n",
    "            train_mace(...) # start from a previous set of NN parameters?\n",
    "            # TODO: dump some info about current errors\n",
    "\n",
    "        print(f'Status at the end of this QbC iteration: Disagreement (pool) [eV]    Disagreement (selected) [eV]')\n",
    "        print(f'                                         {avg_disagreement_pool:06f} {avg_disagreement_selected:06f}')\n"
   ]
  },
  {
   "cell_type": "code",
   "execution_count": null,
   "id": "c457e1ea",
   "metadata": {},
   "outputs": [],
   "source": []
  },
  {
   "cell_type": "code",
   "execution_count": null,
   "id": "79d99050",
   "metadata": {},
   "outputs": [],
   "source": []
  },
  {
   "cell_type": "code",
   "execution_count": null,
   "id": "151639c7",
   "metadata": {},
   "outputs": [],
   "source": []
  }
 ],
 "metadata": {
  "kernelspec": {
   "display_name": "mace",
   "language": "python",
   "name": "python3"
  },
  "language_info": {
   "codemirror_mode": {
    "name": "ipython",
    "version": 3
   },
   "file_extension": ".py",
   "mimetype": "text/x-python",
   "name": "python",
   "nbconvert_exporter": "python",
   "pygments_lexer": "ipython3",
   "version": "3.9.19"
  }
 },
 "nbformat": 4,
 "nbformat_minor": 5
}
