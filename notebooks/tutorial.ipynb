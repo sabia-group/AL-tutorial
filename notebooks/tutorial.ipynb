{
 "cells": [
  {
   "cell_type": "markdown",
   "id": "0034a6df",
   "metadata": {},
   "source": [
    "# Active-learning tutorial: Using committee MACE models to study protonated water clusters\n",
    "\n",
    "1. Load all the modules\n",
    "2. read the training pool \n",
    "3. select random training set of 25 structure from the pool (can be done with np.rand) --> latter exclude these from the pool\n",
    "4. Train a committee (just to check we can train 2)\n",
    "5. predict on the training pool and sort max energy error\n",
    "6. Then we repeat in a for loop."
   ]
  },
  {
   "cell_type": "markdown",
   "id": "f5ad02c8",
   "metadata": {},
   "source": [
    "## To Do "
   ]
  },
  {
   "cell_type": "markdown",
   "id": "d73a8f15",
   "metadata": {},
   "source": [
    "- for loop everywhere\n",
    "- avoid using scripts for MACE\n",
    "- fix E0s"
   ]
  },
  {
   "cell_type": "code",
   "execution_count": null,
   "id": "d7e2ff4d",
   "metadata": {},
   "outputs": [],
   "source": [
    "from IPython.display import Image, display\n",
    "display(Image(filename='../initial-datasets/zundel/zundel.png'))"
   ]
  },
  {
   "cell_type": "markdown",
   "id": "e3ec7dae",
   "metadata": {},
   "source": [
    "## Import modules"
   ]
  },
  {
   "cell_type": "code",
   "execution_count": null,
   "id": "a324d3d9",
   "metadata": {},
   "outputs": [],
   "source": [
    "import os, glob, re\n",
    "import multiprocessing\n",
    "from tqdm.notebook import tqdm\n",
    "\n",
    "import numpy as np\n",
    "import matplotlib.pyplot as plt\n",
    "import pandas as pd\n",
    "\n",
    "from ase.io import read, write # read and write structures\n",
    "# from ase.visualize import view # visualize structures (optional)\n",
    "\n",
    "# import functions to run this tutorial\n",
    "from myfunctions import train_mace     # train MACE model\n",
    "from myfunctions import eval_mace      # evaluate MACE model\n",
    "from myfunctions import extxyz2energy  # extract energy from extxyz file\n",
    "from myfunctions import run_qbc        # run Query by Committee\n",
    "from myfunctions import clean_output   # clean the output of the training"
   ]
  },
  {
   "cell_type": "code",
   "execution_count": null,
   "id": "edb7edff",
   "metadata": {},
   "outputs": [],
   "source": [
    "n_init_train = 20\n",
    "n_test = 50  \n",
    "n_committee = 4\n",
    "parallel = True\n",
    "md_folder = \"md\"\n",
    "init_train_folder = \"init-train\"\n",
    "qbc_folder = \"qbc-work\" # if you modify this, add the new folder to .gitignore\n",
    "n_iter_qbc = 20\n",
    "n_add_iter = 20     "
   ]
  },
  {
   "cell_type": "code",
   "execution_count": null,
   "id": "6522f363",
   "metadata": {},
   "outputs": [],
   "source": [
    "np.random.seed(0)\n",
    "plt.style.use('notebook.mplstyle')\n",
    "os.makedirs(f'{init_train_folder}', exist_ok=True)\n",
    "os.makedirs(f'{init_train_folder}/config', exist_ok=True)\n",
    "os.makedirs(f'{init_train_folder}/models', exist_ok=True)\n",
    "os.makedirs(f'{init_train_folder}/eval', exist_ok=True)\n",
    "os.makedirs(f'{init_train_folder}/structures', exist_ok=True)\n",
    "os.makedirs(f'{md_folder}', exist_ok=True)"
   ]
  },
  {
   "cell_type": "markdown",
   "id": "9c375f6e",
   "metadata": {},
   "source": [
    "## Select initial training structures"
   ]
  },
  {
   "cell_type": "code",
   "execution_count": null,
   "id": "301a5007",
   "metadata": {},
   "outputs": [],
   "source": [
    "# Read the all the structures from file\n",
    "structures = read('../initial-datasets/zundel/train.extxyz', index=':')\n",
    "print(f'Total number of structures: {len(structures)}')\n",
    "# view(structures)  # Opens an interactive GUI window to visualize the structures"
   ]
  },
  {
   "cell_type": "code",
   "execution_count": null,
   "id": "3df9b0e8",
   "metadata": {},
   "outputs": [],
   "source": [
    "# Create the initial training and test sets\n",
    "selected_indices = np.random.choice(len(structures), size=(n_init_train + n_test), replace=False)\n",
    "remaining_candidate_idcs = np.delete(np.arange(len(structures)), selected_indices)\n",
    "\n",
    "indices_train = selected_indices[:n_init_train]\n",
    "indices_test = selected_indices[n_init_train:]\n",
    "assert len(indices_train) == n_init_train\n",
    "assert len(indices_test) == n_test\n",
    "\n",
    "print(f'\\nSelected indices for training: {indices_train}')\n",
    "print(f'\\nSelected indices for test: {indices_test}')\n",
    "\n",
    "initial_training_set = [structures[i] for i in indices_train]\n",
    "test_set = [structures[i] for i in indices_test]\n",
    "remaining_structures = [structures[i] for i in remaining_candidate_idcs]\n",
    "\n",
    "print(f\"\\nSaving the initial training set to 'structures/init.train.extxyz'\")\n",
    "write(f'{init_train_folder}/structures/init.train.extxyz', initial_training_set, format='extxyz')\n",
    "\n",
    "print(f\"\\nSaving the test set to 'structures/test.extxyz'\")\n",
    "write(f'{init_train_folder}/structures/test.extxyz', test_set, format='extxyz')\n",
    "\n",
    "print(f\"\\nSaving the remaining structures to 'structures/remaining.extxyz'\")\n",
    "write(f'{init_train_folder}/structures/remaining.extxyz', remaining_structures, format='extxyz')"
   ]
  },
  {
   "cell_type": "markdown",
   "id": "fa1077ec",
   "metadata": {},
   "source": [
    "## Initial Training"
   ]
  },
  {
   "cell_type": "markdown",
   "id": "71cf1a48",
   "metadata": {},
   "source": [
    "Hyperparameters for the committee members"
   ]
  },
  {
   "cell_type": "code",
   "execution_count": null,
   "id": "5820af06",
   "metadata": {},
   "outputs": [],
   "source": [
    "# Define different values for each config\n",
    "seeds = np.random.randint(0, 2**32 - 1, size=n_committee, dtype=np.uint32)\n",
    "for i in range(n_committee):\n",
    "    filename = f\"{init_train_folder}/config/config.{i}.yml\"\n",
    "    name = f\"mace.com={i}\"\n",
    "    \n",
    "    config_text = f\"\"\"\n",
    "# You can modify the following parameters\n",
    "num_channels: 4\n",
    "max_L: 0            # take it larger but not smaller\n",
    "max_ell: 1          # take it larger but not smaller\n",
    "correlation: 1      # take it larger but not smaller\n",
    "num_interactions: 2 # take it larger but not smaller\n",
    "\n",
    "# ... but you can also modify these ones\n",
    "r_max: 4.0\n",
    "batch_size: 4\n",
    "max_num_epochs: 10000 # this is basically early stopping\n",
    "patience: 10\n",
    "\n",
    "# But please, do not modify these parameters!\n",
    "model: \"MACE\"\n",
    "name: \"{name}\"\n",
    "\n",
    "model_dir      : \"{init_train_folder}/models\"\n",
    "log_dir        : \"{init_train_folder}/log\"\n",
    "checkpoints_dir: \"{init_train_folder}/checkpoints\"\n",
    "results_dir    : \"{init_train_folder}/results\"\n",
    "train_file     : \"{init_train_folder}/structures/init.train.extxyz\"\n",
    "\n",
    "energy_key: \"REF_energy\"\n",
    "forces_key: \"REF_forces\"\n",
    "E0s: \"average\" # to be fixed\n",
    "device: cpu\n",
    "swa: true\n",
    "seed: {seeds[i]}\n",
    "restart_latest: False\n",
    "\"\"\"\n",
    "\n",
    "    with open(filename, \"w\") as f:\n",
    "        f.write(config_text)\n",
    "\n",
    "    print(f\"Wrote {filename}\")"
   ]
  },
  {
   "cell_type": "code",
   "execution_count": null,
   "id": "99c4113a-b80f-47c4-8d19-5b02e6afa0a1",
   "metadata": {},
   "outputs": [],
   "source": [
    "# train a committee of MACE models\n",
    "def train_single_model(n):\n",
    "    train_mace(f\"{init_train_folder}/config/config.{n}.yml\")\n",
    "\n",
    "if parallel: # parallel version: it should take around 25s \n",
    "    print(f\"Training {n_committee} models in parallel\")\n",
    "    with multiprocessing.Pool(processes=multiprocessing.cpu_count()) as pool:\n",
    "        pool.map(train_single_model, range(n_committee))\n",
    "        \n",
    "else: # serial version: it should take around 1m\n",
    "    print(f\"Training {n_committee} models in serial\\n\")\n",
    "    for n in range(n_committee):\n",
    "        print(f\"Training model {n}\")\n",
    "        train_single_model(n)\n",
    "        \n",
    "clean_output(init_train_folder,n_committee)"
   ]
  },
  {
   "cell_type": "markdown",
   "id": "65168375",
   "metadata": {},
   "source": [
    "## Evaluation"
   ]
  },
  {
   "cell_type": "code",
   "execution_count": null,
   "id": "1a30d5e4-fb47-4235-9637-e52e1cf3822f",
   "metadata": {},
   "outputs": [],
   "source": [
    "# ToDo: put files somewhere else\n",
    "for n in tqdm(range(n_committee)):\n",
    "    eval_mace(f'{init_train_folder}/models/mace.n={n:d}.model',\n",
    "              '../initial-datasets/zundel/train.extxyz',\n",
    "              f'{init_train_folder}/eval/train_{n:02d}.extxyz')"
   ]
  },
  {
   "cell_type": "code",
   "execution_count": null,
   "id": "bf18d050-c7a9-4eb7-aa28-1e980719676b",
   "metadata": {},
   "outputs": [],
   "source": [
    "# read in predicted energies\n",
    "energies = np.array([extxyz2energy(f'{init_train_folder}/eval/train_{n:02d}.extxyz') for n in tqdm(range(n_committee))])\n",
    "avg_energy = energies.mean(axis=0)\n",
    "disagreement = energies.std(axis=0)"
   ]
  },
  {
   "cell_type": "code",
   "execution_count": null,
   "id": "cc857067",
   "metadata": {},
   "outputs": [],
   "source": [
    "plt.figure(figsize=(6, 3))\n",
    "for n, e in enumerate(energies):\n",
    "    plt.plot(e, label=rf'$E_{n:d}$', alpha=0.5,linewidth=0.5)\n",
    "plt.plot(avg_energy, label=r'$\\overline{E}$', color='k',linewidth=0.5)\n",
    "plt.legend()\n",
    "plt.xlabel('Data point index')\n",
    "plt.ylabel('Energy [eV]')\n",
    "plt.show()"
   ]
  },
  {
   "cell_type": "code",
   "execution_count": null,
   "id": "448367b8",
   "metadata": {},
   "outputs": [],
   "source": [
    "plt.figure(figsize=(6, 3))\n",
    "plt.plot(disagreement,color=\"blue\",linewidth=0.5)\n",
    "plt.xlabel('Data point index')\n",
    "plt.ylabel(r'$\\sigma(E)$ [eV]')\n",
    "plt.show()"
   ]
  },
  {
   "cell_type": "markdown",
   "id": "9cf7ceed-f6c9-4f6a-ae51-5c1dd9f47efa",
   "metadata": {},
   "source": [
    "# Select relevant training data via Query by Committee (QbC)\n",
    "\n",
    "Some text..."
   ]
  },
  {
   "cell_type": "code",
   "execution_count": null,
   "id": "485214c3-454e-437c-af4c-4752441d7e61",
   "metadata": {},
   "outputs": [],
   "source": [
    "# Define different values for each config\n",
    "# TODO: make this simpler - the only thing we need to change is the name of the training extxyz file.\n",
    "# TODO: implement retraining using the refinement workflow using `foundation_model`\n",
    "os.makedirs(qbc_folder, exist_ok=True)\n",
    "os.makedirs(f'{qbc_folder}/config', exist_ok=True)\n",
    "seeds = np.random.randint(0, 2**32 - 1, size=n_committee, dtype=np.uint32)\n",
    "for i in range(n_committee):\n",
    "    filename = f\"{qbc_folder}/config/config.{i}.yml\"\n",
    "    name = f\"mace.com={i}\"\n",
    "    \n",
    "    config_text = f\"\"\"\n",
    "# You can modify the following parameters\n",
    "num_channels: 4\n",
    "max_L: 0            # take it larger but not smaller\n",
    "max_ell: 1          # take it larger but not smaller\n",
    "correlation: 1      # take it larger but not smaller\n",
    "num_interactions: 2 # take it larger but not smaller\n",
    "\n",
    "# ... but you can also modify these ones\n",
    "r_max: 4.0\n",
    "batch_size: 4\n",
    "max_num_epochs: 10000 # this is basically early stopping\n",
    "patience: 10\n",
    "\n",
    "# But please, do not modify these parameters!\n",
    "model: \"MACE\"\n",
    "name: \"{name}\"\n",
    "\n",
    "model_dir      : \"{qbc_folder}/models\"\n",
    "log_dir        : \"{qbc_folder}/log\"\n",
    "checkpoints_dir: \"{qbc_folder}/checkpoints\"\n",
    "results_dir    : \"{qbc_folder}/results\"\n",
    "\n",
    "train_file: \"{qbc_folder}/train-iter.extxyz\"\n",
    "energy_key: \"REF_energy\"\n",
    "forces_key: \"REF_forces\"\n",
    "\n",
    "E0s: \"average\" # to be fixed\n",
    "device: cpu\n",
    "swa: true\n",
    "seed: {seeds[i]}\n",
    "restart_latest: True\n",
    "\n",
    "\"\"\"\n",
    "\n",
    "    with open(filename, \"w\") as f:\n",
    "        f.write(config_text)\n",
    "\n",
    "    print(f\"Wrote {filename}\")"
   ]
  },
  {
   "cell_type": "code",
   "execution_count": null,
   "id": "c457e1ea",
   "metadata": {},
   "outputs": [],
   "source": [
    "# Attention: this function will not\n",
    "fns_committee = [f'{init_train_folder}/models/mace.n={n:d}.model' for n in range(n_committee)]\n",
    "run_qbc(\n",
    "    fns_committee=fns_committee,                                       # list of MACE models\n",
    "    fn_candidates=f'{init_train_folder}/structures/remaining.extxyz',  # candidate structures\n",
    "    test_dataset=f'{init_train_folder}/structures/test.extxyz',        # test set\n",
    "    n_iter=n_iter_qbc,                                                 # number of QBC iterations\n",
    "    config=f'{qbc_folder}/config',                                     # folder with config files\n",
    "    ofolder=qbc_folder,                                                # folder to save the QBC results\n",
    "    n_add_iter=n_add_iter,                                             # number of structures to add in each iteration\n",
    "    recalculate_selected=False,                                        # whether to recalculate the selected structures\n",
    ");\n",
    "# it should take 13m"
   ]
  },
  {
   "cell_type": "markdown",
   "id": "7cd8fa6d",
   "metadata": {},
   "source": [
    "### Candidated and Selected"
   ]
  },
  {
   "cell_type": "code",
   "execution_count": null,
   "id": "9ae2e41a",
   "metadata": {},
   "outputs": [],
   "source": [
    "n_training_structures   = np.arange(n_init_train,n_iter_qbc*n_add_iter+n_init_train,n_add_iter)\n",
    "sigma = np.loadtxt('qbc-work/disagreement.txt').T\n",
    "\n",
    "fig, ax = plt.subplots(figsize=(6, 3))  # 1 row, 2 columns\n",
    "\n",
    "# --- First plot: Selected ---\n",
    "ax.plot(n_training_structures, sigma[0], '-o', label='Selected', color=\"blue\")\n",
    "ax.fill_between(n_training_structures,sigma[0]-sigma[2],sigma[0]+sigma[2],color=\"blue\",alpha=0.2,linewidth=0)\n",
    "\n",
    "# --- Second plot: Candidates ---\n",
    "ax.plot(n_training_structures, sigma[1], '-o', label='Candidates', color=\"red\")\n",
    "ax.fill_between(n_training_structures,sigma[1]-sigma[3],sigma[1]+sigma[3],color=\"red\",alpha=0.2,linewidth=0)\n",
    "\n",
    "ax.legend()\n",
    "ax.set_xlabel('n. training structures')\n",
    "ax.set_ylabel(r'$\\sigma(E)$ [eV]')\n",
    "# axs[0].set_title(r\"Selected $\\sigma(E)$\")\n",
    "plt.tight_layout()\n",
    "plt.show()"
   ]
  },
  {
   "cell_type": "markdown",
   "id": "e0f551ab",
   "metadata": {},
   "source": [
    "### Test dataset"
   ]
  },
  {
   "cell_type": "code",
   "execution_count": null,
   "id": "f51fec49",
   "metadata": {},
   "outputs": [],
   "source": [
    "energy = None\n",
    "all_energy = None\n",
    "for i_iter in range(n_iter_qbc):\n",
    "    predictions = [None]*n_committee\n",
    "    for n_model in range(n_committee):\n",
    "        file = f\"{qbc_folder}/eval/test.model={n_model}.iter={i_iter}.extxyz\"\n",
    "        structures = read(file,index=\":\")\n",
    "        if energy is None:\n",
    "            energy = np.zeros((len(structures),n_committee))\n",
    "            all_energy = np.zeros((n_iter_qbc,len(structures),n_committee))\n",
    "        energy[:,n_model] = [ atoms.info[\"MACE_energy\"] for atoms in structures ]\n",
    "    all_energy[i_iter,:,:] = energy\n",
    "np.save(f\"{qbc_folder}/test-energy.npy\",all_energy)"
   ]
  },
  {
   "cell_type": "code",
   "execution_count": null,
   "id": "5e256a3c",
   "metadata": {},
   "outputs": [],
   "source": [
    "disagreement = np.std(all_energy,axis=2)\n",
    "disagreement_mean = np.mean(disagreement,axis=1)\n",
    "disagreement_std  = np.std(disagreement,axis=1)"
   ]
  },
  {
   "cell_type": "code",
   "execution_count": null,
   "id": "a4f371bb",
   "metadata": {},
   "outputs": [],
   "source": [
    "n_training_structures   = np.arange(n_init_train,n_iter_qbc*n_add_iter+n_init_train,n_add_iter)\n",
    "\n",
    "fig, ax = plt.subplots(figsize=(6, 3))  # 1 row, 2 columns\n",
    "\n",
    "# --- First plot: Test ---\n",
    "ax.plot(n_training_structures, disagreement_mean, '-o', label='Test', color=\"green\")\n",
    "#ax.fill_between(n_training_structures,disagreement_mean-disagreement_std,disagreement_mean+disagreement_std,color=\"blue\",alpha=0.2,linewidth=0)\n",
    "\n",
    "ax.legend()\n",
    "ax.set_xlabel('n. training structures')\n",
    "ax.set_ylabel(r'$\\sigma(E)$ [eV]')\n",
    "# axs[0].set_title(r\"Selected $\\sigma(E)$\")\n",
    "plt.tight_layout()\n",
    "plt.show()"
   ]
  },
  {
   "cell_type": "code",
   "execution_count": null,
   "id": "4d405484",
   "metadata": {},
   "outputs": [],
   "source": [
    "print(predictions[0][0].arrays.keys())\n",
    "print(predictions[0][0].info.keys())"
   ]
  },
  {
   "cell_type": "code",
   "execution_count": null,
   "id": "97fa986e",
   "metadata": {},
   "outputs": [],
   "source": [
    "df = pd.DataFrame(columns=[\"iter\",\"E-dis\",\"F-dis\",\"E-rmse\",\"F-rmse\"])\n",
    "for file in glob.glob(f\"{qbc_folder}/eval/test.*\"):\n",
    "    # print(file)\n",
    "    match = re.search(r'model=(\\d+)\\.iter=(\\d+)', file)\n",
    "    model_num = int(match.group(1))\n",
    "    iter_num = int(match.group(2))"
   ]
  },
  {
   "cell_type": "markdown",
   "id": "e4af4e57",
   "metadata": {},
   "source": [
    "# Run Molecular Dynamics"
   ]
  },
  {
   "cell_type": "code",
   "execution_count": null,
   "id": "4acbec4c",
   "metadata": {},
   "outputs": [],
   "source": []
  },
  {
   "cell_type": "markdown",
   "id": "fac38781",
   "metadata": {},
   "source": [
    "## Run FHI-aims"
   ]
  },
  {
   "cell_type": "code",
   "execution_count": null,
   "id": "616997ec",
   "metadata": {},
   "outputs": [],
   "source": [
    "from myfunctions import run_aims"
   ]
  },
  {
   "cell_type": "code",
   "execution_count": null,
   "id": "d4f83f2a-217c-4ad1-9b35-eb91534c20ea",
   "metadata": {},
   "outputs": [],
   "source": [
    "to_run  = structures[:4]"
   ]
  },
  {
   "cell_type": "code",
   "execution_count": null,
   "id": "fb693949",
   "metadata": {},
   "outputs": [],
   "source": [
    "%%capture\n",
    "run_aims(\n",
    "    structures=to_run,\n",
    "    folder='aims',\n",
    "    command=f\"mpirun -n 4 /home/stoccoel/codes/FHIaims-polarization/build/polarization-debug/aims.250131.scalapack.mpi.x\",\n",
    "    control=\"../aims/control.in\"\n",
    ")"
   ]
  },
  {
   "cell_type": "code",
   "execution_count": null,
   "id": "0d529494",
   "metadata": {},
   "outputs": [],
   "source": []
  }
 ],
 "metadata": {
  "kernelspec": {
   "display_name": "alt",
   "language": "python",
   "name": "python3"
  },
  "language_info": {
   "codemirror_mode": {
    "name": "ipython",
    "version": 3
   },
   "file_extension": ".py",
   "mimetype": "text/x-python",
   "name": "python",
   "nbconvert_exporter": "python",
   "pygments_lexer": "ipython3",
   "version": "3.9.22"
  }
 },
 "nbformat": 4,
 "nbformat_minor": 5
}
