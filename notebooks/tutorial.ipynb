{
 "cells": [
  {
   "cell_type": "markdown",
   "id": "0034a6df",
   "metadata": {},
   "source": [
    "This is a start I will clean it up\n",
    "TO DO\n",
    "\n",
    "1. Load all the modules\n",
    "2. read the training pool \n",
    "3. select random training set of 25 structure from the pool"
   ]
  },
  {
   "cell_type": "code",
   "execution_count": 9,
   "id": "301a5007",
   "metadata": {},
   "outputs": [],
   "source": [
    "import os\n",
    "from ase.io import read, write\n",
    "zundel_pool = read('/Users/shubhamdongriyal/my-drive/SabIA/ConferencesAndTalks/Brazil_july2024/tutorial/AL-tutorial-main/initial-datasets/zundel/train.extxyz', index=':')"
   ]
  },
  {
   "cell_type": "code",
   "execution_count": 2,
   "id": "e69764d5",
   "metadata": {},
   "outputs": [],
   "source": [
    "import warnings\n",
    "warnings.filterwarnings(\"ignore\")\n",
    "from mace.cli.run_train import main as mace_run_train_main\n",
    "import sys\n",
    "import logging\n",
    "\n",
    "def train_mace(config_file_path):\n",
    "    logging.getLogger().handlers.clear()\n",
    "    sys.argv = [\"program\", \"--config\", config_file_path]\n",
    "    mace_run_train_main()"
   ]
  },
  {
   "cell_type": "code",
   "execution_count": 3,
   "id": "3df9b0e8",
   "metadata": {},
   "outputs": [
    {
     "name": "stdout",
     "output_type": "stream",
     "text": [
      "Total number of structures in pool 10001\n",
      "Selected indices: [9395  898 2398 4737 2343 5111 5507 6452 2670 3188]\n"
     ]
    }
   ],
   "source": [
    "print(f'Total number of structures in pool {len(zundel_pool)}')\n",
    "import numpy as np\n",
    "\n",
    "np.random.seed(0)\n",
    "selected_indices = np.random.choice(len(zundel_pool), size=10, replace=False)\n",
    "print(f'Selected indices: {selected_indices}')\n",
    "initial_training_set = [zundel_pool[i] for i in selected_indices]\n",
    "\n",
    "# Save the selected structures to a new file\n",
    "write('initial_training_set.extxyz', initial_training_set, format='extxyz')\n"
   ]
  },
  {
   "cell_type": "markdown",
   "id": "71cf1a48",
   "metadata": {},
   "source": [
    "Hyperparameters for the committee members"
   ]
  },
  {
   "cell_type": "code",
   "execution_count": 4,
   "id": "cd49f384",
   "metadata": {},
   "outputs": [
    {
     "name": "stderr",
     "output_type": "stream",
     "text": [
      "UsageError: Line magic function `%%writefile` not found.\n"
     ]
    }
   ],
   "source": [
    "# os.mkdir('config)\n",
    "%%writefile config/config-01.yml\n",
    "\n",
    "model: \"MACE\"\n",
    "num_channels: 32\n",
    "max_L: 0\n",
    "r_max: 4.0\n",
    "name: \"mace_com1\"\n",
    "model_dir: \"MACE_models\"\n",
    "log_dir: \"MACE_models\"\n",
    "checkpoints_dir: \"MACE_models\"\n",
    "results_dir: \"MACE_models\"\n",
    "train_file: \"initial_training_set.extxyz\"\n",
    "energy_key: \"REF_energy\"\n",
    "forces_key: \"REF_forces\"\n",
    "device: cpu\n",
    "batch_size: 10\n",
    "max_num_epochs: 20\n",
    "swa: True\n",
    "seed: 1"
   ]
  },
  {
   "cell_type": "code",
   "execution_count": 5,
   "id": "6d31ea28",
   "metadata": {},
   "outputs": [
    {
     "name": "stdout",
     "output_type": "stream",
     "text": [
      "Overwriting config/config-02.yml\n"
     ]
    }
   ],
   "source": [
    "%%writefile config/config-02.yml\n",
    "\n",
    "model: \"MACE\"\n",
    "num_channels: 32\n",
    "max_L: 0\n",
    "r_max: 4.0\n",
    "name: \"mace_com2\"\n",
    "model_dir: \"MACE_models\"\n",
    "log_dir: \"MACE_models\"\n",
    "checkpoints_dir: \"MACE_models\"\n",
    "results_dir: \"MACE_models\"\n",
    "train_file: \"initial_training_set.extxyz\"\n",
    "energy_key: \"REF_energy\"\n",
    "forces_key: \"REF_forces\"\n",
    "device: cpu\n",
    "batch_size: 10\n",
    "max_num_epochs: 20\n",
    "swa: True\n",
    "seed: 2"
   ]
  },
  {
   "cell_type": "code",
   "execution_count": 8,
   "id": "649dc136",
   "metadata": {},
   "outputs": [
    {
     "name": "stderr",
     "output_type": "stream",
     "text": [
      "usage: program [-h] --name NAME [--seed SEED] [--log_dir LOG_DIR]\n",
      "               [--model_dir MODEL_DIR] [--checkpoints_dir CHECKPOINTS_DIR]\n",
      "               [--results_dir RESULTS_DIR] [--downloads_dir DOWNLOADS_DIR]\n",
      "               [--device {cpu,cuda,mps}] [--default_dtype {float32,float64}]\n",
      "               [--log_level LOG_LEVEL]\n",
      "               [--error_table {PerAtomRMSE,TotalRMSE,PerAtomRMSEstressvirials,PerAtomMAE,TotalMAE,DipoleRMSE,DipoleMAE,EnergyDipoleRMSE}]\n",
      "               [--model {BOTNet,MACE,ScaleShiftMACE,ScaleShiftBOTNet,AtomicDipolesMACE,EnergyDipolesMACE}]\n",
      "               [--r_max R_MAX] [--radial_type {bessel,gaussian}]\n",
      "               [--num_radial_basis NUM_RADIAL_BASIS]\n",
      "               [--num_cutoff_basis NUM_CUTOFF_BASIS]\n",
      "               [--interaction {RealAgnosticResidualInteractionBlock,RealAgnosticAttResidualInteractionBlock,RealAgnosticInteractionBlock}]\n",
      "               [--interaction_first {RealAgnosticResidualInteractionBlock,RealAgnosticInteractionBlock}]\n",
      "               [--max_ell MAX_ELL] [--correlation CORRELATION]\n",
      "               [--num_interactions NUM_INTERACTIONS] [--MLP_irreps MLP_IRREPS]\n",
      "               [--radial_MLP RADIAL_MLP] [--hidden_irreps HIDDEN_IRREPS]\n",
      "               [--num_channels NUM_CHANNELS] [--max_L MAX_L]\n",
      "               [--gate {silu,tanh,abs,None}]\n",
      "               [--scaling {std_scaling,rms_forces_scaling,no_scaling}]\n",
      "               [--avg_num_neighbors AVG_NUM_NEIGHBORS]\n",
      "               [--compute_avg_num_neighbors COMPUTE_AVG_NUM_NEIGHBORS]\n",
      "               [--compute_stress COMPUTE_STRESS]\n",
      "               [--compute_forces COMPUTE_FORCES] --train_file TRAIN_FILE\n",
      "               [--valid_file VALID_FILE] [--valid_fraction VALID_FRACTION]\n",
      "               [--test_file TEST_FILE] [--E0s E0S] [--energy_key ENERGY_KEY]\n",
      "               [--forces_key FORCES_KEY] [--virials_key VIRIALS_KEY]\n",
      "               [--stress_key STRESS_KEY] [--dipole_key DIPOLE_KEY]\n",
      "               [--charges_key CHARGES_KEY]\n",
      "               [--loss {ef,weighted,forces_only,virials,stress,dipole,huber,energy_forces_dipole}]\n",
      "               [--forces_weight FORCES_WEIGHT]\n",
      "               [--swa_forces_weight SWA_FORCES_WEIGHT]\n",
      "               [--energy_weight ENERGY_WEIGHT]\n",
      "               [--swa_energy_weight SWA_ENERGY_WEIGHT]\n",
      "               [--virials_weight VIRIALS_WEIGHT]\n",
      "               [--swa_virials_weight SWA_VIRIALS_WEIGHT]\n",
      "               [--stress_weight STRESS_WEIGHT]\n",
      "               [--swa_stress_weight SWA_STRESS_WEIGHT]\n",
      "               [--dipole_weight DIPOLE_WEIGHT]\n",
      "               [--swa_dipole_weight SWA_DIPOLE_WEIGHT]\n",
      "               [--config_type_weights CONFIG_TYPE_WEIGHTS]\n",
      "               [--huber_delta HUBER_DELTA] [--optimizer {adam,adamw}]\n",
      "               [--batch_size BATCH_SIZE] [--valid_batch_size VALID_BATCH_SIZE]\n",
      "               [--lr LR] [--swa_lr SWA_LR] [--weight_decay WEIGHT_DECAY]\n",
      "               [--amsgrad] [--scheduler SCHEDULER] [--lr_factor LR_FACTOR]\n",
      "               [--scheduler_patience SCHEDULER_PATIENCE]\n",
      "               [--lr_scheduler_gamma LR_SCHEDULER_GAMMA] [--swa]\n",
      "               [--start_swa START_SWA] [--ema] [--ema_decay EMA_DECAY]\n",
      "               [--max_num_epochs MAX_NUM_EPOCHS] [--patience PATIENCE]\n",
      "               [--eval_interval EVAL_INTERVAL] [--keep_checkpoints]\n",
      "               [--restart_latest] [--save_cpu] [--clip_grad CLIP_GRAD]\n",
      "               [--wandb] [--wandb_project WANDB_PROJECT]\n",
      "               [--wandb_entity WANDB_ENTITY] [--wandb_name WANDB_NAME]\n",
      "               [--wandb_log_hypers WANDB_LOG_HYPERS]\n",
      "program: error: the following arguments are required: --name, --train_file\n"
     ]
    },
    {
     "ename": "SystemExit",
     "evalue": "2",
     "output_type": "error",
     "traceback": [
      "An exception has occurred, use %tb to see the full traceback.\n",
      "\u001b[0;31mSystemExit\u001b[0m\u001b[0;31m:\u001b[0m 2\n"
     ]
    }
   ],
   "source": [
    "train_mace(\"/config/config-01.yml\")\n",
    "#train_mace(\"config/config-02.yml\")"
   ]
  },
  {
   "cell_type": "code",
   "execution_count": null,
   "id": "922bc4c2",
   "metadata": {},
   "outputs": [],
   "source": []
  }
 ],
 "metadata": {
  "kernelspec": {
   "display_name": "mace",
   "language": "python",
   "name": "python3"
  },
  "language_info": {
   "codemirror_mode": {
    "name": "ipython",
    "version": 3
   },
   "file_extension": ".py",
   "mimetype": "text/x-python",
   "name": "python",
   "nbconvert_exporter": "python",
   "pygments_lexer": "ipython3",
   "version": "3.12.2"
  }
 },
 "nbformat": 4,
 "nbformat_minor": 5
}
