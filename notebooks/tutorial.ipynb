{
 "cells": [
  {
   "cell_type": "markdown",
   "id": "0034a6df",
   "metadata": {},
   "source": [
    "This is a start I will clean it up\n",
    "TO DO\n",
    "\n",
    "1. Load all the modules\n",
    "2. read the training pool \n",
    "3. select random training set of 25 structure from the pool (can be done with np.rand) --> latter exclude these from the pool\n",
    "4. Train a committee (just to check we can train 2)\n",
    "5. predict on the training pool and sort max energy error\n",
    "6. Then we repeat in a for loop."
   ]
  },
  {
   "cell_type": "code",
   "execution_count": 10,
   "id": "301a5007",
   "metadata": {},
   "outputs": [],
   "source": [
    "import os\n",
    "from ase.io import read, write\n",
    "zundel_pool = read('/Users/shubhamdongriyal/my-drive/SabIA/ConferencesAndTalks/Brazil_july2024/tutorial/AL-tutorial-main/initial-datasets/zundel/train.extxyz', index=':')"
   ]
  },
  {
   "cell_type": "code",
   "execution_count": 11,
   "id": "e69764d5",
   "metadata": {},
   "outputs": [],
   "source": [
    "import warnings\n",
    "warnings.filterwarnings(\"ignore\")\n",
    "from mace.cli.run_train import main as mace_run_train_main\n",
    "import sys\n",
    "import logging\n",
    "\n",
    "def train_mace(config_file_path):\n",
    "    logging.getLogger().handlers.clear()\n",
    "    sys.argv = [\"program\", \"--config\", config_file_path]\n",
    "    mace_run_train_main()"
   ]
  },
  {
   "cell_type": "code",
   "execution_count": 12,
   "id": "3df9b0e8",
   "metadata": {},
   "outputs": [
    {
     "name": "stdout",
     "output_type": "stream",
     "text": [
      "Total number of structures in pool 10001\n",
      "Selected indices: [9395  898 2398 4737 2343 5111 5507 6452 2670 3188 1087 1819 2308 6085\n",
      " 3725 8704 7052 8563 2702 6782 2931 8754 8229 4463 3032]\n"
     ]
    }
   ],
   "source": [
    "print(f'Total number of structures in pool {len(zundel_pool)}')\n",
    "import numpy as np\n",
    "\n",
    "np.random.seed(0)\n",
    "selected_indices = np.random.choice(len(zundel_pool), size=25, replace=False)\n",
    "print(f'Selected indices: {selected_indices}')\n",
    "initial_training_set = [zundel_pool[i] for i in selected_indices]\n",
    "\n",
    "# Save the selected structures to a new file\n",
    "write('initial_training_set.extxyz', initial_training_set, format='extxyz')\n"
   ]
  },
  {
   "cell_type": "markdown",
   "id": "71cf1a48",
   "metadata": {},
   "source": [
    "Hyperparameters for the committee members"
   ]
  },
  {
   "cell_type": "code",
   "execution_count": 13,
   "id": "cd49f384",
   "metadata": {},
   "outputs": [
    {
     "name": "stdout",
     "output_type": "stream",
     "text": [
      "Overwriting config/config-01.yml\n"
     ]
    }
   ],
   "source": [
    "%%writefile config/config-01.yml\n",
    "\n",
    "model: \"MACE\"\n",
    "num_channels: 32\n",
    "max_L: 0\n",
    "r_max: 4.0\n",
    "name: \"mace_com1\"\n",
    "model_dir: \"MACE_models\"\n",
    "log_dir: \"MACE_models\"\n",
    "checkpoints_dir: \"MACE_models\"\n",
    "results_dir: \"MACE_models\"\n",
    "train_file: \"initial_training_set.extxyz\"\n",
    "energy_key: \"REF_energy\"\n",
    "forces_key: \"REF_forces\"\n",
    "E0s: \"average\"\n",
    "device: cpu\n",
    "batch_size: 2\n",
    "max_num_epochs: 20\n",
    "swa: True\n",
    "seed: 1"
   ]
  },
  {
   "cell_type": "code",
   "execution_count": 14,
   "id": "6d31ea28",
   "metadata": {},
   "outputs": [
    {
     "name": "stdout",
     "output_type": "stream",
     "text": [
      "Overwriting config/config-02.yml\n"
     ]
    }
   ],
   "source": [
    "%%writefile config/config-02.yml\n",
    "\n",
    "model: \"MACE\"\n",
    "num_channels: 32\n",
    "max_L: 0\n",
    "r_max: 4.0\n",
    "name: \"mace_com2\"\n",
    "model_dir: \"MACE_models\"\n",
    "log_dir: \"MACE_models\"\n",
    "checkpoints_dir: \"MACE_models\"\n",
    "results_dir: \"MACE_models\"\n",
    "train_file: \"initial_training_set.extxyz\"\n",
    "energy_key: \"REF_energy\"\n",
    "forces_key: \"REF_forces\"\n",
    "E0s: \"average\"\n",
    "device: cpu\n",
    "batch_size: 2\n",
    "max_num_epochs: 20\n",
    "swa: True\n",
    "seed: 2"
   ]
  },
  {
   "cell_type": "code",
   "execution_count": 15,
   "id": "649dc136",
   "metadata": {},
   "outputs": [
    {
     "name": "stdout",
     "output_type": "stream",
     "text": [
      "2025-05-15 07:25:05.759 INFO: ===========VERIFYING SETTINGS===========\n"
     ]
    },
    {
     "name": "stdout",
     "output_type": "stream",
     "text": [
      "2025-05-15 07:25:05.762 INFO: MACE version: 0.3.13\n",
      "2025-05-15 07:25:05.763 INFO: Using CPU\n",
      "2025-05-15 07:25:05.768 INFO: ===========LOADING INPUT DATA===========\n",
      "2025-05-15 07:25:05.769 INFO: Using heads: ['Default']\n",
      "2025-05-15 07:25:05.769 INFO: Using the key specifications to parse data:\n",
      "2025-05-15 07:25:05.770 INFO: Default: KeySpecification(info_keys={'energy': 'REF_energy', 'stress': 'REF_stress', 'virials': 'REF_virials', 'dipole': 'dipole', 'head': 'head'}, arrays_keys={'forces': 'REF_forces', 'charges': 'REF_charges'})\n",
      "2025-05-15 07:25:05.771 INFO: =============    Processing head Default     ===========\n",
      "2025-05-15 07:25:05.788 INFO: Training set 1/1 [energy: 25, stress: 0, virials: 0, dipole components: 0, head: 25, forces: 25, charges: 0]\n",
      "2025-05-15 07:25:05.790 INFO: Total Training set [energy: 25, stress: 0, virials: 0, dipole components: 0, head: 25, forces: 25, charges: 0]\n",
      "2025-05-15 07:25:05.791 INFO: No validation set provided, splitting training data instead.\n",
      "2025-05-15 07:25:05.792 INFO: Using random 10% of training set for validation with following indices: [6, 19]\n",
      "2025-05-15 07:25:05.794 INFO: Random Split Training set [energy: 23, stress: 0, virials: 0, dipole components: 0, head: 23, forces: 23, charges: 0]\n",
      "2025-05-15 07:25:05.794 INFO: Random Split Validation set [energy: 2, stress: 0, virials: 0, dipole components: 0, head: 2, forces: 2, charges: 0]\n",
      "2025-05-15 07:25:05.795 INFO: Total number of configurations: train=23, valid=2, tests=[],\n",
      "2025-05-15 07:25:05.796 WARNING: Validation batch size (10) is larger than the number of validation data (2)\n",
      "2025-05-15 07:25:05.796 INFO: Atomic Numbers used: [1, 8]\n",
      "2025-05-15 07:25:05.797 INFO: Isolated Atomic Energies (E0s) not in training file, using command line argument\n",
      "2025-05-15 07:25:05.798 INFO: Computing average Atomic Energies using least squares regression\n",
      "2025-05-15 07:25:05.799 INFO: Atomic Energies used (z: eV) for head Default: {1: -38.66223960862892, 8: -15.464895843451567}\n",
      "2025-05-15 07:25:05.799 INFO: Processing datasets for head 'Default'\n",
      "2025-05-15 07:25:05.814 INFO: Combining 1 list datasets for head 'Default'\n",
      "2025-05-15 07:25:05.817 INFO: Head 'Default' training dataset size: 23\n",
      "2025-05-15 07:25:05.818 INFO: Computing average number of neighbors\n",
      "2025-05-15 07:25:05.879 INFO: Average number of neighbors: 6.0\n",
      "2025-05-15 07:25:05.879 INFO: During training the following quantities will be reported: energy, forces\n",
      "2025-05-15 07:25:05.880 INFO: ===========MODEL DETAILS===========\n",
      "2025-05-15 07:25:05.946 INFO: Building model\n",
      "2025-05-15 07:25:05.947 INFO: Message passing with 32 channels and max_L=0 (32x0e)\n",
      "2025-05-15 07:25:05.948 INFO: 2 layers, each with correlation order: 3 (body order: 4) and spherical harmonics up to: l=3\n",
      "2025-05-15 07:25:05.948 INFO: 8 radial and 5 basis functions\n",
      "2025-05-15 07:25:05.948 INFO: Radial cutoff: 4.0 A (total receptive field for each atom: 8.0 A)\n",
      "2025-05-15 07:25:05.949 INFO: Distance transform for radial basis functions: None\n",
      "2025-05-15 07:25:05.949 INFO: Hidden irreps: 32x0e\n",
      "2025-05-15 07:25:07.670 INFO: Total number of parameters: 60528\n",
      "2025-05-15 07:25:07.671 INFO: \n",
      "2025-05-15 07:25:07.672 INFO: ===========OPTIMIZER INFORMATION===========\n",
      "2025-05-15 07:25:07.672 INFO: Using ADAM as parameter optimizer\n",
      "2025-05-15 07:25:07.674 INFO: Batch size: 2\n",
      "2025-05-15 07:25:07.675 INFO: Number of gradient updates: 230\n",
      "2025-05-15 07:25:07.676 INFO: Learning rate: 0.01, weight decay: 5e-07\n",
      "2025-05-15 07:25:07.677 INFO: WeightedEnergyForcesLoss(energy_weight=1.000, forces_weight=100.000)\n",
      "2025-05-15 07:25:07.681 INFO: Stage Two (after 15 epochs) with loss function: WeightedEnergyForcesLoss(energy_weight=1000.000, forces_weight=100.000), with energy weight : 1000.0, forces weight : 100.0 and learning rate : 0.001\n",
      "2025-05-15 07:25:07.838 INFO: Using gradient clipping with tolerance=10.000\n",
      "2025-05-15 07:25:07.840 INFO: \n",
      "2025-05-15 07:25:07.841 INFO: ===========TRAINING===========\n",
      "2025-05-15 07:25:07.842 INFO: Started training, reporting errors on validation set\n",
      "2025-05-15 07:25:07.843 INFO: Loss metrics on validation set\n",
      "2025-05-15 07:25:09.135 INFO: Initial: head: Default, loss=15.98492959, RMSE_E_per_atom=   31.57 meV, RMSE_F=  565.41 meV / A\n",
      "2025-05-15 07:25:12.259 INFO: Epoch 0: head: Default, loss=12.11926196, RMSE_E_per_atom=  170.39 meV, RMSE_F=  492.03 meV / A\n",
      "2025-05-15 07:25:13.427 INFO: Epoch 1: head: Default, loss=22.46636500, RMSE_E_per_atom=  327.54 meV, RMSE_F=  669.52 meV / A\n",
      "2025-05-15 07:25:14.047 INFO: Epoch 2: head: Default, loss=8.59877339, RMSE_E_per_atom=  310.42 meV, RMSE_F=  413.54 meV / A\n",
      "2025-05-15 07:25:14.692 INFO: Epoch 3: head: Default, loss=5.22125960, RMSE_E_per_atom=  234.01 meV, RMSE_F=  322.30 meV / A\n",
      "2025-05-15 07:25:15.342 INFO: Epoch 4: head: Default, loss=4.50889776, RMSE_E_per_atom=  373.76 meV, RMSE_F=  297.96 meV / A\n",
      "2025-05-15 07:25:15.999 INFO: Epoch 5: head: Default, loss=2.56693027, RMSE_E_per_atom=  357.29 meV, RMSE_F=  223.75 meV / A\n",
      "2025-05-15 07:25:16.626 INFO: Epoch 6: head: Default, loss=1.64364027, RMSE_E_per_atom=  345.36 meV, RMSE_F=  177.99 meV / A\n",
      "2025-05-15 07:25:17.270 INFO: Epoch 7: head: Default, loss=1.27694655, RMSE_E_per_atom=  334.83 meV, RMSE_F=  156.26 meV / A\n",
      "2025-05-15 07:25:17.904 INFO: Epoch 8: head: Default, loss=0.95214966, RMSE_E_per_atom=  329.75 meV, RMSE_F=  134.00 meV / A\n",
      "2025-05-15 07:25:18.534 INFO: Epoch 9: head: Default, loss=0.96997640, RMSE_E_per_atom=  342.00 meV, RMSE_F=  135.02 meV / A\n",
      "2025-05-15 07:25:19.152 INFO: Epoch 10: head: Default, loss=0.62744799, RMSE_E_per_atom=  321.57 meV, RMSE_F=  107.31 meV / A\n",
      "2025-05-15 07:25:19.787 INFO: Epoch 11: head: Default, loss=0.89268968, RMSE_E_per_atom=  301.03 meV, RMSE_F=  130.18 meV / A\n",
      "2025-05-15 07:25:20.422 INFO: Epoch 12: head: Default, loss=0.79662013, RMSE_E_per_atom=  302.46 meV, RMSE_F=  122.55 meV / A\n",
      "2025-05-15 07:25:21.079 INFO: Epoch 13: head: Default, loss=0.99159344, RMSE_E_per_atom=  303.00 meV, RMSE_F=  137.53 meV / A\n",
      "2025-05-15 07:25:21.698 INFO: Epoch 14: head: Default, loss=1.01949025, RMSE_E_per_atom=  280.99 meV, RMSE_F=  140.00 meV / A\n",
      "2025-05-15 07:25:21.699 INFO: Changing loss based on Stage Two Weights\n",
      "2025-05-15 07:25:22.319 INFO: Epoch 15: head: Default, loss=10.57549478, RMSE_E_per_atom=  135.93 meV, RMSE_F=  163.56 meV / A\n",
      "2025-05-15 07:25:22.956 INFO: Epoch 16: head: Default, loss=2.78064382, RMSE_E_per_atom=   52.21 meV, RMSE_F=  168.39 meV / A\n",
      "2025-05-15 07:25:23.613 INFO: Epoch 17: head: Default, loss=0.86774670, RMSE_E_per_atom=   17.32 meV, RMSE_F=  119.81 meV / A\n",
      "2025-05-15 07:25:24.263 INFO: Epoch 18: head: Default, loss=0.77052717, RMSE_E_per_atom=   16.86 meV, RMSE_F=  112.11 meV / A\n",
      "2025-05-15 07:25:24.894 INFO: Epoch 19: head: Default, loss=0.56294546, RMSE_E_per_atom=    8.46 meV, RMSE_F=  102.68 meV / A\n",
      "2025-05-15 07:25:24.909 INFO: Training complete\n",
      "2025-05-15 07:25:24.910 INFO: \n",
      "2025-05-15 07:25:24.910 INFO: ===========RESULTS===========\n",
      "2025-05-15 07:25:24.912 INFO: Loading checkpoint: MACE_models/mace_com1_run-1_epoch-10.pt\n",
      "2025-05-15 07:25:24.926 INFO: Loaded Stage one model from epoch 10 for evaluation\n",
      "2025-05-15 07:25:24.928 INFO: Saving model to MACE_models/mace_com1_run-1.model\n",
      "2025-05-15 07:25:25.088 INFO: Compiling model, saving metadata to MACE_models/mace_com1_compiled.model\n",
      "2025-05-15 07:25:25.784 INFO: Computing metrics for training, validation, and test sets\n",
      "2025-05-15 07:25:25.785 INFO: Skipping evaluation for heads: ['pt_head']\n",
      "2025-05-15 07:25:25.786 INFO: Evaluating train_Default ...\n",
      "2025-05-15 07:25:26.052 INFO: Evaluating valid_Default ...\n",
      "2025-05-15 07:25:26.080 INFO: Error-table on TRAIN and VALID:\n",
      "+---------------+---------------------+------------------+-------------------+\n",
      "|  config_type  | RMSE E / meV / atom | RMSE F / meV / A | relative F RMSE % |\n",
      "+---------------+---------------------+------------------+-------------------+\n",
      "| train_Default |          321.1      |        122.1     |         16.09     |\n",
      "| valid_Default |          321.6      |        107.3     |         22.05     |\n",
      "+---------------+---------------------+------------------+-------------------+\n",
      "2025-05-15 07:25:28.268 INFO: Loading checkpoint: MACE_models/mace_com1_run-1_epoch-19_swa.pt\n",
      "2025-05-15 07:25:28.279 INFO: Loaded Stage two model from epoch 19 for evaluation\n",
      "2025-05-15 07:25:28.280 INFO: Saving model to MACE_models/mace_com1_run-1_stagetwo.model\n",
      "2025-05-15 07:25:28.441 INFO: Compiling model, saving metadata MACE_models/mace_com1_stagetwo_compiled.model\n",
      "2025-05-15 07:25:29.052 INFO: Computing metrics for training, validation, and test sets\n",
      "2025-05-15 07:25:29.053 INFO: Skipping evaluation for heads: ['pt_head']\n",
      "2025-05-15 07:25:29.054 INFO: Evaluating train_Default ...\n",
      "2025-05-15 07:25:29.320 INFO: Evaluating valid_Default ...\n",
      "2025-05-15 07:25:29.347 INFO: Error-table on TRAIN and VALID:\n",
      "+---------------+---------------------+------------------+-------------------+\n",
      "|  config_type  | RMSE E / meV / atom | RMSE F / meV / A | relative F RMSE % |\n",
      "+---------------+---------------------+------------------+-------------------+\n",
      "| train_Default |            8.7      |         81.7     |         10.84     |\n",
      "| valid_Default |            8.5      |        102.7     |         21.10     |\n",
      "+---------------+---------------------+------------------+-------------------+\n",
      "2025-05-15 07:25:31.165 INFO: Done\n"
     ]
    }
   ],
   "source": [
    "train_mace(\"config/config-01.yml\")\n",
    "#train_mace(\"config/config-02.yml\")"
   ]
  },
  {
   "cell_type": "code",
   "execution_count": null,
   "id": "922bc4c2",
   "metadata": {},
   "outputs": [],
   "source": []
  }
 ],
 "metadata": {
  "kernelspec": {
   "display_name": "mace",
   "language": "python",
   "name": "python3"
  },
  "language_info": {
   "codemirror_mode": {
    "name": "ipython",
    "version": 3
   },
   "file_extension": ".py",
   "mimetype": "text/x-python",
   "name": "python",
   "nbconvert_exporter": "python",
   "pygments_lexer": "ipython3",
   "version": "3.12.2"
  }
 },
 "nbformat": 4,
 "nbformat_minor": 5
}
